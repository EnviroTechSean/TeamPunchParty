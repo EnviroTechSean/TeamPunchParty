{
 "cells": [
  {
   "cell_type": "markdown",
   "metadata": {},
   "source": [
    "# In this notebook, we create a model that predicts air quality values based on emissions."
   ]
  },
  {
   "cell_type": "code",
   "execution_count": 37,
   "metadata": {},
   "outputs": [],
   "source": [
    "import pandas as pd\n",
    "import numpy as np\n",
    "import matplotlib.pyplot as plt\n",
    "import seaborn as sns\n",
    "from sklearn import linear_model as lm"
   ]
  },
  {
   "cell_type": "code",
   "execution_count": 48,
   "metadata": {},
   "outputs": [
    {
     "data": {
      "text/html": [
       "<div>\n",
       "<style scoped>\n",
       "    .dataframe tbody tr th:only-of-type {\n",
       "        vertical-align: middle;\n",
       "    }\n",
       "\n",
       "    .dataframe tbody tr th {\n",
       "        vertical-align: top;\n",
       "    }\n",
       "\n",
       "    .dataframe thead th {\n",
       "        text-align: right;\n",
       "    }\n",
       "</style>\n",
       "<table border=\"1\" class=\"dataframe\">\n",
       "  <thead>\n",
       "    <tr style=\"text-align: right;\">\n",
       "      <th></th>\n",
       "      <th>distance_to_nearest_major_city</th>\n",
       "      <th>distance_to_coast</th>\n",
       "      <th>Facility ID</th>\n",
       "      <th>BIOCO2</th>\n",
       "      <th>CH4</th>\n",
       "      <th>CO2</th>\n",
       "      <th>HFC</th>\n",
       "      <th>HFE</th>\n",
       "      <th>N2O</th>\n",
       "      <th>NF3</th>\n",
       "      <th>OTHER</th>\n",
       "      <th>OTHER_FULL</th>\n",
       "      <th>PFC</th>\n",
       "      <th>SF6</th>\n",
       "      <th>VERY_SHORT</th>\n",
       "      <th>CountyFips</th>\n",
       "      <th>StateFips</th>\n",
       "      <th>Average</th>\n",
       "      <th>Counts</th>\n",
       "      <th>Percent</th>\n",
       "    </tr>\n",
       "  </thead>\n",
       "  <tbody>\n",
       "    <tr>\n",
       "      <th>1169</th>\n",
       "      <td>558875.469175</td>\n",
       "      <td>751266.227143</td>\n",
       "      <td>1.003700e+06</td>\n",
       "      <td>0.0000</td>\n",
       "      <td>9002.400000</td>\n",
       "      <td>305827.88000</td>\n",
       "      <td>0.0</td>\n",
       "      <td>0.0</td>\n",
       "      <td>182.37600</td>\n",
       "      <td>0.0</td>\n",
       "      <td>0.0</td>\n",
       "      <td>0.0</td>\n",
       "      <td>0.0</td>\n",
       "      <td>0.0</td>\n",
       "      <td>0.0</td>\n",
       "      <td>48501.0</td>\n",
       "      <td>48.0</td>\n",
       "      <td>7.799913</td>\n",
       "      <td>0.0</td>\n",
       "      <td>0.000000</td>\n",
       "    </tr>\n",
       "    <tr>\n",
       "      <th>1170</th>\n",
       "      <td>20118.185002</td>\n",
       "      <td>50257.650828</td>\n",
       "      <td>1.006065e+06</td>\n",
       "      <td>78.2750</td>\n",
       "      <td>9423.875000</td>\n",
       "      <td>25362.72500</td>\n",
       "      <td>0.0</td>\n",
       "      <td>0.0</td>\n",
       "      <td>6037.85250</td>\n",
       "      <td>0.0</td>\n",
       "      <td>0.0</td>\n",
       "      <td>0.0</td>\n",
       "      <td>0.0</td>\n",
       "      <td>0.0</td>\n",
       "      <td>0.0</td>\n",
       "      <td>6113.0</td>\n",
       "      <td>6.0</td>\n",
       "      <td>17.361437</td>\n",
       "      <td>3473037.0</td>\n",
       "      <td>4.160669</td>\n",
       "    </tr>\n",
       "    <tr>\n",
       "      <th>1171</th>\n",
       "      <td>102698.721456</td>\n",
       "      <td>216765.610333</td>\n",
       "      <td>1.003712e+06</td>\n",
       "      <td>148111.5125</td>\n",
       "      <td>13438.890625</td>\n",
       "      <td>759711.37875</td>\n",
       "      <td>0.0</td>\n",
       "      <td>0.0</td>\n",
       "      <td>5846.05225</td>\n",
       "      <td>0.0</td>\n",
       "      <td>0.0</td>\n",
       "      <td>0.0</td>\n",
       "      <td>0.0</td>\n",
       "      <td>0.0</td>\n",
       "      <td>0.0</td>\n",
       "      <td>38527.8</td>\n",
       "      <td>38.4</td>\n",
       "      <td>12.359189</td>\n",
       "      <td>1098232.0</td>\n",
       "      <td>0.000000</td>\n",
       "    </tr>\n",
       "    <tr>\n",
       "      <th>1172</th>\n",
       "      <td>61501.010585</td>\n",
       "      <td>109736.637604</td>\n",
       "      <td>1.004852e+06</td>\n",
       "      <td>0.0000</td>\n",
       "      <td>91538.625000</td>\n",
       "      <td>0.00000</td>\n",
       "      <td>0.0</td>\n",
       "      <td>0.0</td>\n",
       "      <td>0.00000</td>\n",
       "      <td>0.0</td>\n",
       "      <td>0.0</td>\n",
       "      <td>0.0</td>\n",
       "      <td>0.0</td>\n",
       "      <td>0.0</td>\n",
       "      <td>0.0</td>\n",
       "      <td>6115.0</td>\n",
       "      <td>6.0</td>\n",
       "      <td>8.900070</td>\n",
       "      <td>580532.0</td>\n",
       "      <td>1.095890</td>\n",
       "    </tr>\n",
       "    <tr>\n",
       "      <th>1173</th>\n",
       "      <td>217798.766156</td>\n",
       "      <td>343258.204334</td>\n",
       "      <td>1.005425e+06</td>\n",
       "      <td>0.0000</td>\n",
       "      <td>27559.778680</td>\n",
       "      <td>64701.74000</td>\n",
       "      <td>0.0</td>\n",
       "      <td>0.0</td>\n",
       "      <td>36.53480</td>\n",
       "      <td>0.0</td>\n",
       "      <td>0.0</td>\n",
       "      <td>0.0</td>\n",
       "      <td>0.0</td>\n",
       "      <td>0.0</td>\n",
       "      <td>0.0</td>\n",
       "      <td>6076.0</td>\n",
       "      <td>6.0</td>\n",
       "      <td>10.954348</td>\n",
       "      <td>1009255.0</td>\n",
       "      <td>0.000000</td>\n",
       "    </tr>\n",
       "  </tbody>\n",
       "</table>\n",
       "</div>"
      ],
      "text/plain": [
       "      distance_to_nearest_major_city  distance_to_coast   Facility ID  \\\n",
       "1169                   558875.469175      751266.227143  1.003700e+06   \n",
       "1170                    20118.185002       50257.650828  1.006065e+06   \n",
       "1171                   102698.721456      216765.610333  1.003712e+06   \n",
       "1172                    61501.010585      109736.637604  1.004852e+06   \n",
       "1173                   217798.766156      343258.204334  1.005425e+06   \n",
       "\n",
       "           BIOCO2           CH4           CO2  HFC  HFE         N2O  NF3  \\\n",
       "1169       0.0000   9002.400000  305827.88000  0.0  0.0   182.37600  0.0   \n",
       "1170      78.2750   9423.875000   25362.72500  0.0  0.0  6037.85250  0.0   \n",
       "1171  148111.5125  13438.890625  759711.37875  0.0  0.0  5846.05225  0.0   \n",
       "1172       0.0000  91538.625000       0.00000  0.0  0.0     0.00000  0.0   \n",
       "1173       0.0000  27559.778680   64701.74000  0.0  0.0    36.53480  0.0   \n",
       "\n",
       "      OTHER  OTHER_FULL  PFC  SF6  VERY_SHORT  CountyFips  StateFips  \\\n",
       "1169    0.0         0.0  0.0  0.0         0.0     48501.0       48.0   \n",
       "1170    0.0         0.0  0.0  0.0         0.0      6113.0        6.0   \n",
       "1171    0.0         0.0  0.0  0.0         0.0     38527.8       38.4   \n",
       "1172    0.0         0.0  0.0  0.0         0.0      6115.0        6.0   \n",
       "1173    0.0         0.0  0.0  0.0         0.0      6076.0        6.0   \n",
       "\n",
       "        Average     Counts   Percent  \n",
       "1169   7.799913        0.0  0.000000  \n",
       "1170  17.361437  3473037.0  4.160669  \n",
       "1171  12.359189  1098232.0  0.000000  \n",
       "1172   8.900070   580532.0  1.095890  \n",
       "1173  10.954348  1009255.0  0.000000  "
      ]
     },
     "execution_count": 48,
     "metadata": {},
     "output_type": "execute_result"
    }
   ],
   "source": [
    "# import CSV data into dataframe\n",
    "aq_with_emissions_by_county_with_na = pd.read_csv('csv_data/airquality_w_emmision_bycounty.csv')\n",
    "aq_with_emissions_by_county = aq_with_emissions_by_county_with_na.dropna()\n",
    "aq_with_emissions_by_county.tail()"
   ]
  },
  {
   "cell_type": "code",
   "execution_count": 49,
   "metadata": {},
   "outputs": [
    {
     "data": {
      "text/plain": [
       "array(['distance_to_nearest_major_city', 'distance_to_coast',\n",
       "       'Facility ID', 'BIOCO2', 'CH4', 'CO2', 'HFC', 'HFE', 'N2O', 'NF3',\n",
       "       'OTHER', 'OTHER_FULL', 'PFC', 'SF6', 'VERY_SHORT', 'CountyFips',\n",
       "       'StateFips', 'Average', 'Counts', 'Percent'], dtype=object)"
      ]
     },
     "execution_count": 49,
     "metadata": {},
     "output_type": "execute_result"
    }
   ],
   "source": [
    "aq_with_emissions_by_county.columns.values"
   ]
  },
  {
   "cell_type": "markdown",
   "metadata": {},
   "source": [
    "Let's check the number of 0s in each column. I don't want to use a column with mostly 0s as a feature, so the model does not think that the presence of a 0 is indicative of air quality measures (when it is more likely a missing or unreported value)"
   ]
  },
  {
   "cell_type": "code",
   "execution_count": 50,
   "metadata": {},
   "outputs": [
    {
     "name": "stdout",
     "output_type": "stream",
     "text": [
      "The number of zeros in the column is: 1056\n"
     ]
    }
   ],
   "source": [
    "# check number of 0s in each column. Don't use columns with\n",
    "number_of_zeros = (aq_with_emissions_by_county['VERY_SHORT'] == 0).sum()\n",
    "\n",
    "print(f\"The number of zeros in the column is: {number_of_zeros}\")"
   ]
  },
  {
   "cell_type": "markdown",
   "metadata": {},
   "source": [
    "Check correlations or columns with air quality average."
   ]
  },
  {
   "cell_type": "code",
   "execution_count": 51,
   "metadata": {},
   "outputs": [
    {
     "data": {
      "text/plain": [
       "-0.20071692505149386"
      ]
     },
     "execution_count": 51,
     "metadata": {},
     "output_type": "execute_result"
    }
   ],
   "source": [
    "aq_vs_distance_to_nearest_major_city = aq_with_emissions_by_county['Average'].corr(aq_with_emissions_by_county['distance_to_nearest_major_city'])\n",
    "aq_vs_distance_to_coast = aq_with_emissions_by_county['Average'].corr(aq_with_emissions_by_county['distance_to_coast'])\n",
    "\n",
    "aq_vs_distance_to_nearest_major_city\n",
    "aq_vs_distance_to_coast"
   ]
  },
  {
   "cell_type": "code",
   "execution_count": 52,
   "metadata": {},
   "outputs": [],
   "source": [
    "np.random.seed(133)\n",
    "\n",
    "def train_val_split(data):\n",
    "    \"\"\" \n",
    "    Takes in a DataFrame `data` and randomly splits it into two smaller DataFrames \n",
    "    named `train` and `validation` with 80% and 20% of the data, respectively. \n",
    "    \"\"\"\n",
    "    \n",
    "    data_len = data.shape[0]\n",
    "    shuffled_indices = np.random.permutation(data_len)\n",
    "    \n",
    "    split_index = int(0.8*data_len)\n",
    "    train = data.iloc[shuffled_indices[:split_index]]\n",
    "    validation = data.iloc[shuffled_indices[split_index:]]\n",
    "   \n",
    "    return train, validation"
   ]
  },
  {
   "cell_type": "code",
   "execution_count": 57,
   "metadata": {},
   "outputs": [],
   "source": [
    "# log transform averages\n",
    "aq_with_emissions_by_county.loc[:, 'Log Average'] = np.log(aq_with_emissions_by_county['Average'])\n",
    "# pick features\n",
    "feature_columns = [0, 1, 4, 5, 8]\n",
    "features = aq_with_emissions_by_county.iloc[:, feature_columns]\n",
    "features.head()\n",
    "# split features and labels into training and validation\n",
    "aq_values =  aq_with_emissions_by_county['Log Average']\n",
    "\n",
    "# SPLIT INTO TRAINING AND VALIDATION\n",
    "train_X, val_X = train_val_split(features)\n",
    "train_y, val_y = train_val_split(aq_values)"
   ]
  },
  {
   "cell_type": "markdown",
   "metadata": {},
   "source": [
    "Now let's create the model and make predictions."
   ]
  },
  {
   "cell_type": "code",
   "execution_count": 58,
   "metadata": {},
   "outputs": [],
   "source": [
    "model = lm.LinearRegression()\n",
    "model.fit(train_X, train_y)\n",
    "y_hat = model.predict(train_X)"
   ]
  },
  {
   "cell_type": "code",
   "execution_count": 59,
   "metadata": {},
   "outputs": [
    {
     "name": "stdout",
     "output_type": "stream",
     "text": [
      "RMSE for model 1 is 0.33983213890720376\n"
     ]
    }
   ],
   "source": [
    "def rmse(predicted, actual):\n",
    "    \"\"\"\n",
    "    Calculates RMSE from actual and predicted values.\n",
    "    Input:\n",
    "      predicted (1D array): Vector of predicted/fitted values\n",
    "      actual (1D array): Vector of actual values\n",
    "    Output:\n",
    "      A float, the RMSE value.\n",
    "    \"\"\"\n",
    "    return np.sqrt(np.mean((actual - predicted)**2))\n",
    "\n",
    "print(f'RMSE for model 1 is {rmse(y_hat, train_y)}')"
   ]
  },
  {
   "cell_type": "code",
   "execution_count": null,
   "metadata": {},
   "outputs": [],
   "source": []
  }
 ],
 "metadata": {
  "kernelspec": {
   "display_name": "chem277b",
   "language": "python",
   "name": "python3"
  },
  "language_info": {
   "codemirror_mode": {
    "name": "ipython",
    "version": 3
   },
   "file_extension": ".py",
   "mimetype": "text/x-python",
   "name": "python",
   "nbconvert_exporter": "python",
   "pygments_lexer": "ipython3",
   "version": "3.11.4"
  },
  "orig_nbformat": 4
 },
 "nbformat": 4,
 "nbformat_minor": 2
}
