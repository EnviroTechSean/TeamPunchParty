{
 "cells": [
  {
   "cell_type": "code",
   "execution_count": 169,
   "metadata": {},
   "outputs": [],
   "source": [
    "import matplotlib.pyplot as plt\n",
    "import numpy as np\n",
    "import pandas as pd\n",
    "\n",
    "from sklearn.linear_model import LinearRegression\n",
    "from sklearn.model_selection import train_test_split\n",
    "from sklearn.metrics import mean_squared_error\n",
    "\n",
    "\n",
    "import punch_party_utils"
   ]
  },
  {
   "cell_type": "code",
   "execution_count": 51,
   "metadata": {},
   "outputs": [],
   "source": [
    "air_quality_df = punch_party_utils.make_average_aq_df()\n",
    "average_air_quality = air_quality_df[air_quality_df[\"MeasureName\"] == \"Annual average ambient concentrations of PM2.5 in micrograms per cubic meter (based on seasonal averages and daily measurement)\"]\n",
    "\n",
    "\n",
    "# For the first model, just CO2 emmisions in a given year -> air quality in a given year\n",
    "air_quality_df = air_quality_df.drop(\n",
    "    columns=[\"MeasureId\", \"MeasureName\", \"MeasureType\", \"StratificationLevel\",\n",
    "             \"StateFips\", \"StateName\", \"CountyFips\", \"Unit\",\n",
    "             \"UnitName\", \"DataOrigin\", \"MonitorOnly\"])\n",
    "\n",
    "# air_quality_df = air_quality_df.drop(\"CountyName\")"
   ]
  },
  {
   "cell_type": "code",
   "execution_count": 53,
   "metadata": {},
   "outputs": [],
   "source": [
    "air_quality_df[\"County_Year\"] = air_quality_df[\"CountyName\"] + \"_\" + air_quality_df[\"ReportYear\"].astype(str)"
   ]
  },
  {
   "cell_type": "code",
   "execution_count": 55,
   "metadata": {},
   "outputs": [
    {
     "name": "stdout",
     "output_type": "stream",
     "text": [
      "42621\n"
     ]
    },
    {
     "data": {
      "text/plain": [
       "Index(['ReportYear', 'Value'], dtype='object')"
      ]
     },
     "metadata": {},
     "output_type": "display_data"
    },
    {
     "name": "stdout",
     "output_type": "stream",
     "text": [
      "\n",
      "\n",
      "                Value\n",
      "ReportYear           \n",
      "1999        13.748994\n",
      "2000        13.020075\n",
      "2001        11.958253\n",
      "2002        11.235081\n",
      "2003        11.194532\n",
      "2004        10.966340\n",
      "2005        11.737703\n",
      "2006        10.923896\n",
      "2007        11.301560\n",
      "2008        10.335900\n",
      "2009         9.430018\n",
      "2010         9.596560\n",
      "2011         9.372181\n",
      "2012         9.063382\n",
      "2013         8.821925\n"
     ]
    }
   ],
   "source": [
    "print(len(air_quality_df))\n",
    "\n",
    "aq_year_only = air_quality_df.drop(columns=[\"CountyName\", \"County_Year\"])\n",
    "display(aq_year_only.columns)\n",
    "aq_by_year = aq_year_only.groupby(\"ReportYear\")\n",
    "\n",
    "print (\"\\n\")\n",
    "\n",
    "air_quality_yearly_averages = aq_by_year.agg(\"mean\")\n",
    "print(air_quality_yearly_averages)"
   ]
  },
  {
   "cell_type": "code",
   "execution_count": 111,
   "metadata": {},
   "outputs": [
    {
     "data": {
      "text/html": [
       "<div>\n",
       "<style scoped>\n",
       "    .dataframe tbody tr th:only-of-type {\n",
       "        vertical-align: middle;\n",
       "    }\n",
       "\n",
       "    .dataframe tbody tr th {\n",
       "        vertical-align: top;\n",
       "    }\n",
       "\n",
       "    .dataframe thead th {\n",
       "        text-align: right;\n",
       "    }\n",
       "</style>\n",
       "<table border=\"1\" class=\"dataframe\">\n",
       "  <thead>\n",
       "    <tr style=\"text-align: right;\">\n",
       "      <th></th>\n",
       "      <th>CO2 Emission</th>\n",
       "      <th>County</th>\n",
       "      <th>Gas Name</th>\n",
       "      <th>Year</th>\n",
       "      <th>County_Year</th>\n",
       "    </tr>\n",
       "  </thead>\n",
       "  <tbody>\n",
       "    <tr>\n",
       "      <th>0</th>\n",
       "      <td>58024.000</td>\n",
       "      <td>BROWN</td>\n",
       "      <td>BIOGENIC CO2</td>\n",
       "      <td>2017</td>\n",
       "      <td>BROWN_2017</td>\n",
       "    </tr>\n",
       "    <tr>\n",
       "      <th>1</th>\n",
       "      <td>134.500</td>\n",
       "      <td>NEW</td>\n",
       "      <td>METHANE</td>\n",
       "      <td>2018</td>\n",
       "      <td>NEW_2018</td>\n",
       "    </tr>\n",
       "    <tr>\n",
       "      <th>2</th>\n",
       "      <td>6.854</td>\n",
       "      <td>SABINE</td>\n",
       "      <td>NITROUS OXIDE</td>\n",
       "      <td>2012</td>\n",
       "      <td>SABINE_2012</td>\n",
       "    </tr>\n",
       "    <tr>\n",
       "      <th>3</th>\n",
       "      <td>53562.000</td>\n",
       "      <td>WASHINGTON</td>\n",
       "      <td>METHANE</td>\n",
       "      <td>2017</td>\n",
       "      <td>WASHINGTON_2017</td>\n",
       "    </tr>\n",
       "    <tr>\n",
       "      <th>4</th>\n",
       "      <td>7635064.700</td>\n",
       "      <td>TRIMBLE</td>\n",
       "      <td>CARBON DIOXIDE</td>\n",
       "      <td>2018</td>\n",
       "      <td>TRIMBLE_2018</td>\n",
       "    </tr>\n",
       "  </tbody>\n",
       "</table>\n",
       "</div>"
      ],
      "text/plain": [
       "   CO2 Emission      County        Gas Name  Year      County_Year\n",
       "0     58024.000       BROWN    BIOGENIC CO2  2017       BROWN_2017\n",
       "1       134.500         NEW         METHANE  2018         NEW_2018\n",
       "2         6.854      SABINE   NITROUS OXIDE  2012      SABINE_2012\n",
       "3     53562.000  WASHINGTON         METHANE  2017  WASHINGTON_2017\n",
       "4   7635064.700     TRIMBLE  CARBON DIOXIDE  2018     TRIMBLE_2018"
      ]
     },
     "metadata": {},
     "output_type": "display_data"
    }
   ],
   "source": [
    "gas_types = punch_party_utils.make_gas_types_df()\n",
    "\n",
    "gas_types = gas_types.drop(\n",
    "    columns=[\"Address Line 1\", \"City\", \n",
    "             \"Facility ID\", \"Gas Code\", \"Latitude\", \"Longitude\", \n",
    "             \"State Name\", \"Zip Code\", \"Facility Name\"])\n",
    "\n",
    "gas_types[\"County_Year\"] = gas_types[\"County\"] + \"_\" + gas_types[\"Year\"].astype(str)\n",
    "\n",
    "display(gas_types.head())"
   ]
  },
  {
   "cell_type": "markdown",
   "metadata": {},
   "source": []
  },
  {
   "cell_type": "code",
   "execution_count": 82,
   "metadata": {},
   "outputs": [
    {
     "name": "stdout",
     "output_type": "stream",
     "text": [
      "      CO2 Emission\n",
      "Year              \n",
      "2010  3.229325e+09\n",
      "2011  3.333042e+09\n",
      "2012  3.194602e+09\n",
      "2013  3.210963e+09\n",
      "2014  3.222917e+09\n",
      "2015  3.078839e+09\n",
      "2016  3.019157e+09\n",
      "2017  2.947673e+09\n",
      "2018  3.037238e+09\n",
      "2019  2.898178e+09\n"
     ]
    }
   ],
   "source": [
    "raw_emmisions_year_only = gas_types.drop(columns=[\"Gas Name\", \"County\", \"County_Year\"])\n",
    "yearly_raw_emmisions = raw_emmisions_year_only.groupby(\"Year\").agg(\"sum\")\n",
    "print(yearly_raw_emmisions)"
   ]
  },
  {
   "cell_type": "code",
   "execution_count": 83,
   "metadata": {},
   "outputs": [
    {
     "name": "stdout",
     "output_type": "stream",
     "text": [
      "      CO2 Emission     Value\n",
      "2010  3.229325e+09  9.596560\n",
      "2011  3.333042e+09  9.372181\n",
      "2012  3.194602e+09  9.063382\n",
      "2013  3.210963e+09  8.821925\n"
     ]
    }
   ],
   "source": [
    "co2_emmisions_with_aq = yearly_raw_emmisions.merge(\n",
    "    air_quality_yearly_averages, left_index=True, right_index=True, how=\"inner\")\n",
    "print(co2_emmisions_with_aq)"
   ]
  },
  {
   "cell_type": "code",
   "execution_count": 84,
   "metadata": {},
   "outputs": [
    {
     "data": {
      "text/html": [
       "<div>\n",
       "<style scoped>\n",
       "    .dataframe tbody tr th:only-of-type {\n",
       "        vertical-align: middle;\n",
       "    }\n",
       "\n",
       "    .dataframe tbody tr th {\n",
       "        vertical-align: top;\n",
       "    }\n",
       "\n",
       "    .dataframe thead th {\n",
       "        text-align: right;\n",
       "    }\n",
       "</style>\n",
       "<table border=\"1\" class=\"dataframe\">\n",
       "  <thead>\n",
       "    <tr style=\"text-align: right;\">\n",
       "      <th></th>\n",
       "      <th>CO2 Emission</th>\n",
       "      <th>Value</th>\n",
       "    </tr>\n",
       "  </thead>\n",
       "  <tbody>\n",
       "    <tr>\n",
       "      <th>2010</th>\n",
       "      <td>0.968882</td>\n",
       "      <td>9.596560</td>\n",
       "    </tr>\n",
       "    <tr>\n",
       "      <th>2011</th>\n",
       "      <td>1.000000</td>\n",
       "      <td>9.372181</td>\n",
       "    </tr>\n",
       "    <tr>\n",
       "      <th>2012</th>\n",
       "      <td>0.958464</td>\n",
       "      <td>9.063382</td>\n",
       "    </tr>\n",
       "    <tr>\n",
       "      <th>2013</th>\n",
       "      <td>0.963373</td>\n",
       "      <td>8.821925</td>\n",
       "    </tr>\n",
       "  </tbody>\n",
       "</table>\n",
       "</div>"
      ],
      "text/plain": [
       "      CO2 Emission     Value\n",
       "2010      0.968882  9.596560\n",
       "2011      1.000000  9.372181\n",
       "2012      0.958464  9.063382\n",
       "2013      0.963373  8.821925"
      ]
     },
     "metadata": {},
     "output_type": "display_data"
    }
   ],
   "source": [
    "# Normalize\n",
    "max_co2_emission = np.max(co2_emmisions_with_aq[\"CO2 Emission\"])\n",
    "max_co2_emission\n",
    "co2_emmisions_with_aq[\"CO2 Emission\"] = co2_emmisions_with_aq[\"CO2 Emission\"] / max_co2_emission\n",
    "\n",
    "display(co2_emmisions_with_aq)"
   ]
  },
  {
   "cell_type": "code",
   "execution_count": 85,
   "metadata": {},
   "outputs": [
    {
     "data": {
      "text/html": [
       "<div>\n",
       "<style scoped>\n",
       "    .dataframe tbody tr th:only-of-type {\n",
       "        vertical-align: middle;\n",
       "    }\n",
       "\n",
       "    .dataframe tbody tr th {\n",
       "        vertical-align: top;\n",
       "    }\n",
       "\n",
       "    .dataframe thead th {\n",
       "        text-align: right;\n",
       "    }\n",
       "</style>\n",
       "<table border=\"1\" class=\"dataframe\">\n",
       "  <thead>\n",
       "    <tr style=\"text-align: right;\">\n",
       "      <th></th>\n",
       "      <th>CO2 Emission</th>\n",
       "    </tr>\n",
       "  </thead>\n",
       "  <tbody>\n",
       "    <tr>\n",
       "      <th>2010</th>\n",
       "      <td>0.968882</td>\n",
       "    </tr>\n",
       "    <tr>\n",
       "      <th>2011</th>\n",
       "      <td>1.000000</td>\n",
       "    </tr>\n",
       "    <tr>\n",
       "      <th>2012</th>\n",
       "      <td>0.958464</td>\n",
       "    </tr>\n",
       "    <tr>\n",
       "      <th>2013</th>\n",
       "      <td>0.963373</td>\n",
       "    </tr>\n",
       "  </tbody>\n",
       "</table>\n",
       "</div>"
      ],
      "text/plain": [
       "      CO2 Emission\n",
       "2010      0.968882\n",
       "2011      1.000000\n",
       "2012      0.958464\n",
       "2013      0.963373"
      ]
     },
     "metadata": {},
     "output_type": "display_data"
    },
    {
     "data": {
      "text/plain": [
       "2010    9.596560\n",
       "2011    9.372181\n",
       "2012    9.063382\n",
       "2013    8.821925\n",
       "Name: Value, dtype: float64"
      ]
     },
     "metadata": {},
     "output_type": "display_data"
    },
    {
     "data": {
      "text/html": [
       "<style>#sk-container-id-1 {color: black;background-color: white;}#sk-container-id-1 pre{padding: 0;}#sk-container-id-1 div.sk-toggleable {background-color: white;}#sk-container-id-1 label.sk-toggleable__label {cursor: pointer;display: block;width: 100%;margin-bottom: 0;padding: 0.3em;box-sizing: border-box;text-align: center;}#sk-container-id-1 label.sk-toggleable__label-arrow:before {content: \"▸\";float: left;margin-right: 0.25em;color: #696969;}#sk-container-id-1 label.sk-toggleable__label-arrow:hover:before {color: black;}#sk-container-id-1 div.sk-estimator:hover label.sk-toggleable__label-arrow:before {color: black;}#sk-container-id-1 div.sk-toggleable__content {max-height: 0;max-width: 0;overflow: hidden;text-align: left;background-color: #f0f8ff;}#sk-container-id-1 div.sk-toggleable__content pre {margin: 0.2em;color: black;border-radius: 0.25em;background-color: #f0f8ff;}#sk-container-id-1 input.sk-toggleable__control:checked~div.sk-toggleable__content {max-height: 200px;max-width: 100%;overflow: auto;}#sk-container-id-1 input.sk-toggleable__control:checked~label.sk-toggleable__label-arrow:before {content: \"▾\";}#sk-container-id-1 div.sk-estimator input.sk-toggleable__control:checked~label.sk-toggleable__label {background-color: #d4ebff;}#sk-container-id-1 div.sk-label input.sk-toggleable__control:checked~label.sk-toggleable__label {background-color: #d4ebff;}#sk-container-id-1 input.sk-hidden--visually {border: 0;clip: rect(1px 1px 1px 1px);clip: rect(1px, 1px, 1px, 1px);height: 1px;margin: -1px;overflow: hidden;padding: 0;position: absolute;width: 1px;}#sk-container-id-1 div.sk-estimator {font-family: monospace;background-color: #f0f8ff;border: 1px dotted black;border-radius: 0.25em;box-sizing: border-box;margin-bottom: 0.5em;}#sk-container-id-1 div.sk-estimator:hover {background-color: #d4ebff;}#sk-container-id-1 div.sk-parallel-item::after {content: \"\";width: 100%;border-bottom: 1px solid gray;flex-grow: 1;}#sk-container-id-1 div.sk-label:hover label.sk-toggleable__label {background-color: #d4ebff;}#sk-container-id-1 div.sk-serial::before {content: \"\";position: absolute;border-left: 1px solid gray;box-sizing: border-box;top: 0;bottom: 0;left: 50%;z-index: 0;}#sk-container-id-1 div.sk-serial {display: flex;flex-direction: column;align-items: center;background-color: white;padding-right: 0.2em;padding-left: 0.2em;position: relative;}#sk-container-id-1 div.sk-item {position: relative;z-index: 1;}#sk-container-id-1 div.sk-parallel {display: flex;align-items: stretch;justify-content: center;background-color: white;position: relative;}#sk-container-id-1 div.sk-item::before, #sk-container-id-1 div.sk-parallel-item::before {content: \"\";position: absolute;border-left: 1px solid gray;box-sizing: border-box;top: 0;bottom: 0;left: 50%;z-index: -1;}#sk-container-id-1 div.sk-parallel-item {display: flex;flex-direction: column;z-index: 1;position: relative;background-color: white;}#sk-container-id-1 div.sk-parallel-item:first-child::after {align-self: flex-end;width: 50%;}#sk-container-id-1 div.sk-parallel-item:last-child::after {align-self: flex-start;width: 50%;}#sk-container-id-1 div.sk-parallel-item:only-child::after {width: 0;}#sk-container-id-1 div.sk-dashed-wrapped {border: 1px dashed gray;margin: 0 0.4em 0.5em 0.4em;box-sizing: border-box;padding-bottom: 0.4em;background-color: white;}#sk-container-id-1 div.sk-label label {font-family: monospace;font-weight: bold;display: inline-block;line-height: 1.2em;}#sk-container-id-1 div.sk-label-container {text-align: center;}#sk-container-id-1 div.sk-container {/* jupyter's `normalize.less` sets `[hidden] { display: none; }` but bootstrap.min.css set `[hidden] { display: none !important; }` so we also need the `!important` here to be able to override the default hidden behavior on the sphinx rendered scikit-learn.org. See: https://github.com/scikit-learn/scikit-learn/issues/21755 */display: inline-block !important;position: relative;}#sk-container-id-1 div.sk-text-repr-fallback {display: none;}</style><div id=\"sk-container-id-1\" class=\"sk-top-container\"><div class=\"sk-text-repr-fallback\"><pre>LinearRegression()</pre><b>In a Jupyter environment, please rerun this cell to show the HTML representation or trust the notebook. <br />On GitHub, the HTML representation is unable to render, please try loading this page with nbviewer.org.</b></div><div class=\"sk-container\" hidden><div class=\"sk-item\"><div class=\"sk-estimator sk-toggleable\"><input class=\"sk-toggleable__control sk-hidden--visually\" id=\"sk-estimator-id-1\" type=\"checkbox\" checked><label for=\"sk-estimator-id-1\" class=\"sk-toggleable__label sk-toggleable__label-arrow\">LinearRegression</label><div class=\"sk-toggleable__content\"><pre>LinearRegression()</pre></div></div></div></div></div>"
      ],
      "text/plain": [
       "LinearRegression()"
      ]
     },
     "execution_count": 85,
     "metadata": {},
     "output_type": "execute_result"
    }
   ],
   "source": [
    "co2_aq_model = LinearRegression(fit_intercept=True)\n",
    "\n",
    "independent_var = co2_emmisions_with_aq[[\"CO2 Emission\"]]\n",
    "dependent_var = co2_emmisions_with_aq[\"Value\"]\n",
    "\n",
    "display(independent_var)\n",
    "display(dependent_var)\n",
    "\n",
    "co2_aq_model.fit(independent_var, dependent_var)"
   ]
  },
  {
   "cell_type": "code",
   "execution_count": 86,
   "metadata": {},
   "outputs": [
    {
     "name": "stdout",
     "output_type": "stream",
     "text": [
      "[9.10959159]\n"
     ]
    },
    {
     "name": "stderr",
     "output_type": "stream",
     "text": [
      "/home/sean/miniconda3/envs/msse-python/lib/python3.11/site-packages/sklearn/base.py:439: UserWarning: X does not have valid feature names, but LinearRegression was fitted with feature names\n",
      "  warnings.warn(\n"
     ]
    }
   ],
   "source": [
    "# Divide value to predict by max emission from training for normalization consistency\n",
    "value_to_predict = (3.2 * 10**9) / max_co2_emission\n",
    "\n",
    "print(co2_aq_model.predict(np.array([value_to_predict]).reshape(-1, 1)))"
   ]
  },
  {
   "cell_type": "code",
   "execution_count": 100,
   "metadata": {},
   "outputs": [
    {
     "data": {
      "text/html": [
       "<div>\n",
       "<style scoped>\n",
       "    .dataframe tbody tr th:only-of-type {\n",
       "        vertical-align: middle;\n",
       "    }\n",
       "\n",
       "    .dataframe tbody tr th {\n",
       "        vertical-align: top;\n",
       "    }\n",
       "\n",
       "    .dataframe thead th {\n",
       "        text-align: right;\n",
       "    }\n",
       "</style>\n",
       "<table border=\"1\" class=\"dataframe\">\n",
       "  <thead>\n",
       "    <tr style=\"text-align: right;\">\n",
       "      <th>Gas Name</th>\n",
       "      <th>BIOGENIC CO2</th>\n",
       "      <th>CARBON DIOXIDE</th>\n",
       "      <th>HFCS</th>\n",
       "      <th>HFES</th>\n",
       "      <th>METHANE</th>\n",
       "      <th>NITROGEN TRIFLOURIDE</th>\n",
       "      <th>NITROUS OXIDE</th>\n",
       "      <th>OTHER</th>\n",
       "      <th>OTHER FULLY FLUORINATED GHGS</th>\n",
       "      <th>PFCS</th>\n",
       "      <th>SULFUR HEXAFLUORIDE</th>\n",
       "      <th>VERY SHORT-LIVED COMPOUNDS</th>\n",
       "    </tr>\n",
       "    <tr>\n",
       "      <th>Year</th>\n",
       "      <th></th>\n",
       "      <th></th>\n",
       "      <th></th>\n",
       "      <th></th>\n",
       "      <th></th>\n",
       "      <th></th>\n",
       "      <th></th>\n",
       "      <th></th>\n",
       "      <th></th>\n",
       "      <th></th>\n",
       "      <th></th>\n",
       "      <th></th>\n",
       "    </tr>\n",
       "  </thead>\n",
       "  <tbody>\n",
       "    <tr>\n",
       "      <th>2011</th>\n",
       "      <td>219854.886983</td>\n",
       "      <td>462302.634066</td>\n",
       "      <td>196118.872666</td>\n",
       "      <td>888.608834</td>\n",
       "      <td>31507.831677</td>\n",
       "      <td>22648.793747</td>\n",
       "      <td>6002.174766</td>\n",
       "      <td>6747.611722</td>\n",
       "      <td>28001.296085</td>\n",
       "      <td>113693.707661</td>\n",
       "      <td>34794.461450</td>\n",
       "      <td>7.803089</td>\n",
       "    </tr>\n",
       "    <tr>\n",
       "      <th>2012</th>\n",
       "      <td>221692.959997</td>\n",
       "      <td>428138.510385</td>\n",
       "      <td>153791.590090</td>\n",
       "      <td>680.194925</td>\n",
       "      <td>29956.920238</td>\n",
       "      <td>20703.412830</td>\n",
       "      <td>4755.363164</td>\n",
       "      <td>6425.133333</td>\n",
       "      <td>28315.847044</td>\n",
       "      <td>104668.101817</td>\n",
       "      <td>28516.478182</td>\n",
       "      <td>5.895594</td>\n",
       "    </tr>\n",
       "    <tr>\n",
       "      <th>2013</th>\n",
       "      <td>215409.963821</td>\n",
       "      <td>427731.424518</td>\n",
       "      <td>129820.451666</td>\n",
       "      <td>623.485861</td>\n",
       "      <td>29092.144228</td>\n",
       "      <td>16215.268148</td>\n",
       "      <td>4291.312665</td>\n",
       "      <td>5294.825375</td>\n",
       "      <td>32481.755893</td>\n",
       "      <td>103245.245113</td>\n",
       "      <td>27478.328136</td>\n",
       "      <td>8.221518</td>\n",
       "    </tr>\n",
       "    <tr>\n",
       "      <th>2014</th>\n",
       "      <td>211993.601611</td>\n",
       "      <td>420014.630570</td>\n",
       "      <td>121274.558525</td>\n",
       "      <td>1409.273671</td>\n",
       "      <td>28052.491027</td>\n",
       "      <td>15063.658824</td>\n",
       "      <td>4523.518900</td>\n",
       "      <td>4466.333333</td>\n",
       "      <td>27371.955091</td>\n",
       "      <td>93473.825614</td>\n",
       "      <td>27592.388072</td>\n",
       "      <td>13.654441</td>\n",
       "    </tr>\n",
       "    <tr>\n",
       "      <th>2015</th>\n",
       "      <td>214321.305711</td>\n",
       "      <td>405575.849913</td>\n",
       "      <td>100378.183108</td>\n",
       "      <td>4111.709119</td>\n",
       "      <td>28259.379143</td>\n",
       "      <td>16324.279200</td>\n",
       "      <td>4282.749662</td>\n",
       "      <td>4692.033333</td>\n",
       "      <td>25813.783808</td>\n",
       "      <td>87343.614173</td>\n",
       "      <td>24874.326846</td>\n",
       "      <td>10.037224</td>\n",
       "    </tr>\n",
       "  </tbody>\n",
       "</table>\n",
       "</div>"
      ],
      "text/plain": [
       "Gas Name   BIOGENIC CO2  CARBON DIOXIDE           HFCS         HFES  \\\n",
       "Year                                                                  \n",
       "2011      219854.886983   462302.634066  196118.872666   888.608834   \n",
       "2012      221692.959997   428138.510385  153791.590090   680.194925   \n",
       "2013      215409.963821   427731.424518  129820.451666   623.485861   \n",
       "2014      211993.601611   420014.630570  121274.558525  1409.273671   \n",
       "2015      214321.305711   405575.849913  100378.183108  4111.709119   \n",
       "\n",
       "Gas Name       METHANE  NITROGEN TRIFLOURIDE  NITROUS OXIDE        OTHER  \\\n",
       "Year                                                                       \n",
       "2011      31507.831677          22648.793747    6002.174766  6747.611722   \n",
       "2012      29956.920238          20703.412830    4755.363164  6425.133333   \n",
       "2013      29092.144228          16215.268148    4291.312665  5294.825375   \n",
       "2014      28052.491027          15063.658824    4523.518900  4466.333333   \n",
       "2015      28259.379143          16324.279200    4282.749662  4692.033333   \n",
       "\n",
       "Gas Name  OTHER FULLY FLUORINATED GHGS           PFCS  SULFUR HEXAFLUORIDE  \\\n",
       "Year                                                                         \n",
       "2011                      28001.296085  113693.707661         34794.461450   \n",
       "2012                      28315.847044  104668.101817         28516.478182   \n",
       "2013                      32481.755893  103245.245113         27478.328136   \n",
       "2014                      27371.955091   93473.825614         27592.388072   \n",
       "2015                      25813.783808   87343.614173         24874.326846   \n",
       "\n",
       "Gas Name  VERY SHORT-LIVED COMPOUNDS  \n",
       "Year                                  \n",
       "2011                        7.803089  \n",
       "2012                        5.895594  \n",
       "2013                        8.221518  \n",
       "2014                       13.654441  \n",
       "2015                       10.037224  "
      ]
     },
     "metadata": {},
     "output_type": "display_data"
    }
   ],
   "source": [
    "emissions_per_year_per_gas = gas_types.drop(columns=[\"County\", \"County_Year\"]).groupby(['Year', 'Gas Name']).mean()\n",
    "\n",
    "emissions_per_year_per_gas = emissions_per_year_per_gas.reset_index()\n",
    "\n",
    "emissions_per_year_per_gas = emissions_per_year_per_gas.pivot(index='Year', columns='Gas Name', values='CO2 Emission').dropna()\n",
    "\n",
    "display(emissions_per_year_per_gas.head())"
   ]
  },
  {
   "cell_type": "code",
   "execution_count": 155,
   "metadata": {},
   "outputs": [
    {
     "data": {
      "text/html": [
       "<div>\n",
       "<style scoped>\n",
       "    .dataframe tbody tr th:only-of-type {\n",
       "        vertical-align: middle;\n",
       "    }\n",
       "\n",
       "    .dataframe tbody tr th {\n",
       "        vertical-align: top;\n",
       "    }\n",
       "\n",
       "    .dataframe thead th {\n",
       "        text-align: right;\n",
       "    }\n",
       "</style>\n",
       "<table border=\"1\" class=\"dataframe\">\n",
       "  <thead>\n",
       "    <tr style=\"text-align: right;\">\n",
       "      <th></th>\n",
       "      <th>BIOGENIC CO2</th>\n",
       "      <th>CARBON DIOXIDE</th>\n",
       "      <th>HFCS</th>\n",
       "      <th>HFES</th>\n",
       "      <th>METHANE</th>\n",
       "      <th>NITROGEN TRIFLOURIDE</th>\n",
       "      <th>NITROUS OXIDE</th>\n",
       "      <th>OTHER</th>\n",
       "      <th>OTHER FULLY FLUORINATED GHGS</th>\n",
       "      <th>PFCS</th>\n",
       "      <th>SULFUR HEXAFLUORIDE</th>\n",
       "      <th>VERY SHORT-LIVED COMPOUNDS</th>\n",
       "      <th>Value</th>\n",
       "    </tr>\n",
       "  </thead>\n",
       "  <tbody>\n",
       "    <tr>\n",
       "      <th>2011</th>\n",
       "      <td>219854.886983</td>\n",
       "      <td>462302.634066</td>\n",
       "      <td>196118.872666</td>\n",
       "      <td>888.608834</td>\n",
       "      <td>31507.831677</td>\n",
       "      <td>22648.793747</td>\n",
       "      <td>6002.174766</td>\n",
       "      <td>6747.611722</td>\n",
       "      <td>28001.296085</td>\n",
       "      <td>113693.707661</td>\n",
       "      <td>34794.461450</td>\n",
       "      <td>7.803089</td>\n",
       "      <td>9.372181</td>\n",
       "    </tr>\n",
       "    <tr>\n",
       "      <th>2012</th>\n",
       "      <td>221692.959997</td>\n",
       "      <td>428138.510385</td>\n",
       "      <td>153791.590090</td>\n",
       "      <td>680.194925</td>\n",
       "      <td>29956.920238</td>\n",
       "      <td>20703.412830</td>\n",
       "      <td>4755.363164</td>\n",
       "      <td>6425.133333</td>\n",
       "      <td>28315.847044</td>\n",
       "      <td>104668.101817</td>\n",
       "      <td>28516.478182</td>\n",
       "      <td>5.895594</td>\n",
       "      <td>9.063382</td>\n",
       "    </tr>\n",
       "    <tr>\n",
       "      <th>2013</th>\n",
       "      <td>215409.963821</td>\n",
       "      <td>427731.424518</td>\n",
       "      <td>129820.451666</td>\n",
       "      <td>623.485861</td>\n",
       "      <td>29092.144228</td>\n",
       "      <td>16215.268148</td>\n",
       "      <td>4291.312665</td>\n",
       "      <td>5294.825375</td>\n",
       "      <td>32481.755893</td>\n",
       "      <td>103245.245113</td>\n",
       "      <td>27478.328136</td>\n",
       "      <td>8.221518</td>\n",
       "      <td>8.821925</td>\n",
       "    </tr>\n",
       "  </tbody>\n",
       "</table>\n",
       "</div>"
      ],
      "text/plain": [
       "       BIOGENIC CO2  CARBON DIOXIDE           HFCS        HFES       METHANE  \\\n",
       "2011  219854.886983   462302.634066  196118.872666  888.608834  31507.831677   \n",
       "2012  221692.959997   428138.510385  153791.590090  680.194925  29956.920238   \n",
       "2013  215409.963821   427731.424518  129820.451666  623.485861  29092.144228   \n",
       "\n",
       "      NITROGEN TRIFLOURIDE  NITROUS OXIDE        OTHER  \\\n",
       "2011          22648.793747    6002.174766  6747.611722   \n",
       "2012          20703.412830    4755.363164  6425.133333   \n",
       "2013          16215.268148    4291.312665  5294.825375   \n",
       "\n",
       "      OTHER FULLY FLUORINATED GHGS           PFCS  SULFUR HEXAFLUORIDE  \\\n",
       "2011                  28001.296085  113693.707661         34794.461450   \n",
       "2012                  28315.847044  104668.101817         28516.478182   \n",
       "2013                  32481.755893  103245.245113         27478.328136   \n",
       "\n",
       "      VERY SHORT-LIVED COMPOUNDS     Value  \n",
       "2011                    7.803089  9.372181  \n",
       "2012                    5.895594  9.063382  \n",
       "2013                    8.221518  8.821925  "
      ]
     },
     "metadata": {},
     "output_type": "display_data"
    }
   ],
   "source": [
    "all_gasses_with_air_quality = emissions_per_year_per_gas.merge(\n",
    "    air_quality_yearly_averages, left_index=True, right_index=True, how=\"inner\")\n",
    "display(all_gasses_with_air_quality) "
   ]
  },
  {
   "cell_type": "code",
   "execution_count": 156,
   "metadata": {},
   "outputs": [],
   "source": [
    "def model_air_quality_from_multiple_gasses(gasses, aq_values):\n",
    "    \"\"\"ArithmeticError\n",
    "    parameters\n",
    "    ----------\n",
    "    df : Dataframe\n",
    "        A dataframe with an independent variable for each gas type we wish to use as a feature for air quality prediction.\n",
    "    aq_values : Series\n",
    "        A series representing the dependent variable to train on.\n",
    "\n",
    "    returns\n",
    "    -------\n",
    "    A model that can predict air quality from a given input of gas types\n",
    "\n",
    "    \"\"\"\n",
    "    model_with_gas_types = LinearRegression(fit_intercept=True)\n",
    "    assert len(gasses) == len(aq_values), \"Length of input dataframe does not equal length of output dataframe\"\n",
    "\n",
    "    model_with_gas_types.fit(gasses, aq_values)\n",
    "\n",
    "    print(\"Intercept of the model:\")\n",
    "    print(model_with_gas_types.intercept_)\n",
    "    print(\"\\n\")\n",
    "    print(\"Features of the model:\")\n",
    "    print(gasses.columns.tolist())\n",
    "    print(\"\\n\")\n",
    "    print(\"Coefficients of the model:\")\n",
    "    print(model_with_gas_types.coef_)\n",
    "\n",
    "    return model_with_gas_types"
   ]
  },
  {
   "cell_type": "code",
   "execution_count": 162,
   "metadata": {},
   "outputs": [
    {
     "name": "stdout",
     "output_type": "stream",
     "text": [
      "Intercept of the model:\n",
      "7.520742140483977\n",
      "\n",
      "\n",
      "Features of the model:\n",
      "['BIOGENIC CO2', 'CARBON DIOXIDE', 'HFCS', 'HFES', 'METHANE', 'NITROGEN TRIFLOURIDE', 'NITROUS OXIDE', 'OTHER', 'OTHER FULLY FLUORINATED GHGS', 'PFCS', 'SULFUR HEXAFLUORIDE', 'VERY SHORT-LIVED COMPOUNDS']\n",
      "\n",
      "\n",
      "Coefficients of the model:\n",
      "[-1.12278356 -0.05521366 -0.80792737  2.27842992  1.35020234  0.68148472\n",
      " -0.08529045  0.05376891 -0.0440125   0.77360609 -0.96595478 -0.23206163]\n"
     ]
    }
   ],
   "source": [
    "all_gasses_per_year = all_gasses_with_air_quality.drop(columns=[\"Value\"])\n",
    "air_qualities_by_year = all_gasses_with_air_quality[\"Value\"]\n",
    "max_gas_emissions_per_year = all_gasses_per_year.max()\n",
    "normalized_max_gas_emissions = all_gasses_per_year / max_gas_emissions_per_year\n",
    "air_qualities_by_year = all_gasses_with_air_quality[\"Value\"]\n",
    "\n",
    "model_with_gas_types = model_air_quality_from_multiple_gasses(normalized_max_gas_emissions, air_qualities_by_year)"
   ]
  },
  {
   "cell_type": "code",
   "execution_count": 140,
   "metadata": {},
   "outputs": [
    {
     "name": "stdout",
     "output_type": "stream",
     "text": [
      "[8.82192485]\n"
     ]
    },
    {
     "name": "stderr",
     "output_type": "stream",
     "text": [
      "/home/sean/miniconda3/envs/msse-python/lib/python3.11/site-packages/sklearn/base.py:439: UserWarning: X does not have valid feature names, but LinearRegression was fitted with feature names\n",
      "  warnings.warn(\n"
     ]
    }
   ],
   "source": [
    "example_value_to_predict = np.array([215409.963821, 427731.424518, 129820.451666, 623.485861, 29092.144228, 16215.268148, 4291.312665, 5294.825375, 32481.755893, 103245.245113, 27478.328136, 8.221518]).reshape(-1, 1)\n",
    "max_gas_emissions = all_gasses_with_air_quality.drop(columns=[\"Value\"]).max()\n",
    "normalized_values_to_predict = example_value_to_predict / np.array(max_gas_emissions).reshape(-1, 1)\n",
    "normalized_values_to_predict = normalized_values_to_predict.T\n",
    "\n",
    "prediction = model_with_gas_types.predict(normalized_values_to_predict)\n",
    "print(prediction)"
   ]
  },
  {
   "cell_type": "code",
   "execution_count": 104,
   "metadata": {},
   "outputs": [
    {
     "data": {
      "text/plain": [
       "Index(['Value', 'County_Year'], dtype='object')"
      ]
     },
     "metadata": {},
     "output_type": "display_data"
    },
    {
     "name": "stdout",
     "output_type": "stream",
     "text": [
      "\n",
      "\n",
      "                    Value\n",
      "County_Year              \n",
      "ABBEVILLE_2001  14.211375\n",
      "ABBEVILLE_2002  13.130120\n",
      "ABBEVILLE_2003  13.184619\n",
      "ABBEVILLE_2004  13.725566\n",
      "ABBEVILLE_2005  14.178854\n",
      "...                   ...\n",
      "ZIEBACH_2007     6.366442\n",
      "ZIEBACH_2008     6.497561\n",
      "ZIEBACH_2009     6.901008\n",
      "ZIEBACH_2010     6.692292\n",
      "ZIEBACH_2011     6.230142\n",
      "\n",
      "[21562 rows x 1 columns]\n"
     ]
    }
   ],
   "source": [
    "aq_county_year = air_quality_df.drop(columns=[\"CountyName\", \"ReportYear\"])\n",
    "display(aq_county_year.columns)\n",
    "aq_county_year = aq_county_year.groupby(\"County_Year\")\n",
    "\n",
    "print (\"\\n\")\n",
    "\n",
    "air_quality_county_yearly_averages = aq_county_year.agg(\"mean\")\n",
    "print(air_quality_county_yearly_averages)"
   ]
  },
  {
   "cell_type": "code",
   "execution_count": 98,
   "metadata": {},
   "outputs": [
    {
     "name": "stdout",
     "output_type": "stream",
     "text": [
      "        CO2 Emission      County        Gas Name  Year      County_Year\n",
      "0          58024.000       BROWN    BIOGENIC CO2  2017       BROWN_2017\n",
      "1            134.500         NEW         METHANE  2018         NEW_2018\n",
      "2              6.854      SABINE   NITROUS OXIDE  2012      SABINE_2012\n",
      "3          53562.000  WASHINGTON         METHANE  2017  WASHINGTON_2017\n",
      "4        7635064.700     TRIMBLE  CARBON DIOXIDE  2018     TRIMBLE_2018\n",
      "...              ...         ...             ...   ...              ...\n",
      "219922    301493.000      SKAGIT    BIOGENIC CO2  2016      SKAGIT_2016\n",
      "219923      1929.800      SKAGIT  CARBON DIOXIDE  2016      SKAGIT_2016\n",
      "219924      2776.500    GUILFORD  CARBON DIOXIDE  2018    GUILFORD_2018\n",
      "219926        23.840    BRADFORD   NITROUS OXIDE  2012    BRADFORD_2012\n",
      "219927        23.000    BRADFORD         METHANE  2013    BRADFORD_2013\n",
      "\n",
      "[203601 rows x 5 columns]\n",
      "             CO2 Emission\n",
      "County_Year              \n",
      "ACADIA_2010   1448577.425\n",
      "ACADIA_2011   1572541.979\n",
      "ACADIA_2012   2376600.200\n",
      "ACADIA_2013   1839663.624\n",
      "ACADIA_2014   2254437.112\n",
      "...                   ...\n",
      "YUMA_2015      454925.722\n",
      "YUMA_2016      473769.412\n",
      "YUMA_2017      427815.434\n",
      "YUMA_2018      548792.446\n",
      "YUMA_2019      547350.080\n",
      "\n",
      "[11730 rows x 1 columns]\n"
     ]
    }
   ],
   "source": [
    "print(gas_types)\n",
    "raw_emmisions_county_year = gas_types.drop(columns=[\"Gas Name\", \"County\", \"Year\"])\n",
    "county_yearly_raw_emmisions = raw_emmisions_county_year.groupby(\"County_Year\").agg(\"sum\")\n",
    "print(county_yearly_raw_emmisions)"
   ]
  },
  {
   "cell_type": "code",
   "execution_count": 112,
   "metadata": {},
   "outputs": [],
   "source": [
    "county_year_only = gas_types.drop(columns=[\"Year\", \"County\"])"
   ]
  },
  {
   "cell_type": "code",
   "execution_count": 124,
   "metadata": {},
   "outputs": [
    {
     "data": {
      "text/plain": [
       "4156"
      ]
     },
     "metadata": {},
     "output_type": "display_data"
    },
    {
     "data": {
      "text/html": [
       "<div>\n",
       "<style scoped>\n",
       "    .dataframe tbody tr th:only-of-type {\n",
       "        vertical-align: middle;\n",
       "    }\n",
       "\n",
       "    .dataframe tbody tr th {\n",
       "        vertical-align: top;\n",
       "    }\n",
       "\n",
       "    .dataframe thead th {\n",
       "        text-align: right;\n",
       "    }\n",
       "</style>\n",
       "<table border=\"1\" class=\"dataframe\">\n",
       "  <thead>\n",
       "    <tr style=\"text-align: right;\">\n",
       "      <th>Gas Name</th>\n",
       "      <th>BIOGENIC CO2</th>\n",
       "      <th>CARBON DIOXIDE</th>\n",
       "      <th>METHANE</th>\n",
       "      <th>NITROUS OXIDE</th>\n",
       "    </tr>\n",
       "    <tr>\n",
       "      <th>County_Year</th>\n",
       "      <th></th>\n",
       "      <th></th>\n",
       "      <th></th>\n",
       "      <th></th>\n",
       "    </tr>\n",
       "  </thead>\n",
       "  <tbody>\n",
       "    <tr>\n",
       "      <th>ADAMS_2015</th>\n",
       "      <td>338.5</td>\n",
       "      <td>9.461366e+05</td>\n",
       "      <td>13728.293478</td>\n",
       "      <td>5257.448444</td>\n",
       "    </tr>\n",
       "    <tr>\n",
       "      <th>ADAMS_2016</th>\n",
       "      <td>26.6</td>\n",
       "      <td>1.064286e+06</td>\n",
       "      <td>13979.718750</td>\n",
       "      <td>5353.520333</td>\n",
       "    </tr>\n",
       "    <tr>\n",
       "      <th>ADAMS_2018</th>\n",
       "      <td>11.9</td>\n",
       "      <td>5.177267e+05</td>\n",
       "      <td>13150.250000</td>\n",
       "      <td>1727.270737</td>\n",
       "    </tr>\n",
       "    <tr>\n",
       "      <th>ADAMS_2019</th>\n",
       "      <td>11.9</td>\n",
       "      <td>4.123245e+05</td>\n",
       "      <td>13830.102273</td>\n",
       "      <td>893.368941</td>\n",
       "    </tr>\n",
       "    <tr>\n",
       "      <th>ADA_2015</th>\n",
       "      <td>12206.1</td>\n",
       "      <td>1.331350e+04</td>\n",
       "      <td>56095.500000</td>\n",
       "      <td>85.675000</td>\n",
       "    </tr>\n",
       "  </tbody>\n",
       "</table>\n",
       "</div>"
      ],
      "text/plain": [
       "Gas Name     BIOGENIC CO2  CARBON DIOXIDE       METHANE  NITROUS OXIDE\n",
       "County_Year                                                           \n",
       "ADAMS_2015          338.5    9.461366e+05  13728.293478    5257.448444\n",
       "ADAMS_2016           26.6    1.064286e+06  13979.718750    5353.520333\n",
       "ADAMS_2018           11.9    5.177267e+05  13150.250000    1727.270737\n",
       "ADAMS_2019           11.9    4.123245e+05  13830.102273     893.368941\n",
       "ADA_2015          12206.1    1.331350e+04  56095.500000      85.675000"
      ]
     },
     "metadata": {},
     "output_type": "display_data"
    }
   ],
   "source": [
    "emissions_per_county_year_per_gas = county_year_only.groupby(['County_Year', 'Gas Name']).mean()\n",
    "\n",
    "emissions_per_county_year_per_gas = emissions_per_county_year_per_gas.reset_index()\n",
    "\n",
    "emissions_per_county_year_per_gas = emissions_per_county_year_per_gas.pivot(index='County_Year', columns='Gas Name', values='CO2 Emission')\n",
    "\n",
    "# Counting NaNs per column\n",
    "# nan_count = emissions_per_county_year_per_gas.isna().sum()\n",
    "\n",
    "# print(nan_count)\n",
    "\n",
    "# The following gasses have NaN in over 10000 of the ~12000 rows of the emissions_per_county_year_per_gas dataframe, dropping these columns before modelling.\n",
    "gasses_with_insufficient_measurements = [\"HFCS\", \"HFES\", \"NITROGEN TRIFLOURIDE\", \"OTHER\", \"OTHER FULLY FLUORINATED GHGS\", \"PFCS\", \"SULFUR HEXAFLUORIDE\", \"VERY SHORT-LIVED COMPOUNDS\"]\n",
    "\n",
    "emissions_per_county_year_per_gas = emissions_per_county_year_per_gas.drop(columns=gasses_with_insufficient_measurements).dropna()\n",
    "display(len(emissions_per_county_year_per_gas))\n",
    "\n",
    "display(emissions_per_county_year_per_gas.head())"
   ]
  },
  {
   "cell_type": "code",
   "execution_count": 125,
   "metadata": {},
   "outputs": [
    {
     "data": {
      "text/html": [
       "<div>\n",
       "<style scoped>\n",
       "    .dataframe tbody tr th:only-of-type {\n",
       "        vertical-align: middle;\n",
       "    }\n",
       "\n",
       "    .dataframe tbody tr th {\n",
       "        vertical-align: top;\n",
       "    }\n",
       "\n",
       "    .dataframe thead th {\n",
       "        text-align: right;\n",
       "    }\n",
       "</style>\n",
       "<table border=\"1\" class=\"dataframe\">\n",
       "  <thead>\n",
       "    <tr style=\"text-align: right;\">\n",
       "      <th></th>\n",
       "      <th>BIOGENIC CO2</th>\n",
       "      <th>CARBON DIOXIDE</th>\n",
       "      <th>METHANE</th>\n",
       "      <th>NITROUS OXIDE</th>\n",
       "      <th>Value</th>\n",
       "    </tr>\n",
       "    <tr>\n",
       "      <th>County_Year</th>\n",
       "      <th></th>\n",
       "      <th></th>\n",
       "      <th></th>\n",
       "      <th></th>\n",
       "      <th></th>\n",
       "    </tr>\n",
       "  </thead>\n",
       "  <tbody>\n",
       "    <tr>\n",
       "      <th>AIKEN_2010</th>\n",
       "      <td>16171.000000</td>\n",
       "      <td>444627.100000</td>\n",
       "      <td>18422.875000</td>\n",
       "      <td>1329.974000</td>\n",
       "      <td>12.340038</td>\n",
       "    </tr>\n",
       "    <tr>\n",
       "      <th>AIKEN_2011</th>\n",
       "      <td>10549.000000</td>\n",
       "      <td>429155.266667</td>\n",
       "      <td>18827.562500</td>\n",
       "      <td>1191.851000</td>\n",
       "      <td>12.658858</td>\n",
       "    </tr>\n",
       "    <tr>\n",
       "      <th>ALACHUA_2013</th>\n",
       "      <td>64093.800000</td>\n",
       "      <td>317543.266667</td>\n",
       "      <td>495.250000</td>\n",
       "      <td>918.883000</td>\n",
       "      <td>6.914032</td>\n",
       "    </tr>\n",
       "    <tr>\n",
       "      <th>ALAMEDA_2010</th>\n",
       "      <td>49073.996479</td>\n",
       "      <td>38720.705363</td>\n",
       "      <td>63579.865362</td>\n",
       "      <td>100.483415</td>\n",
       "      <td>8.442426</td>\n",
       "    </tr>\n",
       "    <tr>\n",
       "      <th>ALAMEDA_2011</th>\n",
       "      <td>50407.739015</td>\n",
       "      <td>29260.805667</td>\n",
       "      <td>59862.691017</td>\n",
       "      <td>98.726208</td>\n",
       "      <td>10.494480</td>\n",
       "    </tr>\n",
       "    <tr>\n",
       "      <th>...</th>\n",
       "      <td>...</td>\n",
       "      <td>...</td>\n",
       "      <td>...</td>\n",
       "      <td>...</td>\n",
       "      <td>...</td>\n",
       "    </tr>\n",
       "    <tr>\n",
       "      <th>YOLO_2013</th>\n",
       "      <td>69.900000</td>\n",
       "      <td>32644.566667</td>\n",
       "      <td>9132.125000</td>\n",
       "      <td>3400.676667</td>\n",
       "      <td>7.495000</td>\n",
       "    </tr>\n",
       "    <tr>\n",
       "      <th>YORK_2010</th>\n",
       "      <td>397115.233333</td>\n",
       "      <td>886716.105333</td>\n",
       "      <td>14722.633333</td>\n",
       "      <td>7798.018154</td>\n",
       "      <td>10.287617</td>\n",
       "    </tr>\n",
       "    <tr>\n",
       "      <th>YORK_2011</th>\n",
       "      <td>338540.600000</td>\n",
       "      <td>715022.474118</td>\n",
       "      <td>12648.367647</td>\n",
       "      <td>6235.789067</td>\n",
       "      <td>10.299324</td>\n",
       "    </tr>\n",
       "    <tr>\n",
       "      <th>YORK_2012</th>\n",
       "      <td>475279.380000</td>\n",
       "      <td>583744.761875</td>\n",
       "      <td>13729.750000</td>\n",
       "      <td>5260.998429</td>\n",
       "      <td>12.250877</td>\n",
       "    </tr>\n",
       "    <tr>\n",
       "      <th>YORK_2013</th>\n",
       "      <td>768271.766667</td>\n",
       "      <td>629840.215333</td>\n",
       "      <td>12460.911765</td>\n",
       "      <td>4426.864500</td>\n",
       "      <td>11.244676</td>\n",
       "    </tr>\n",
       "  </tbody>\n",
       "</table>\n",
       "<p>1156 rows × 5 columns</p>\n",
       "</div>"
      ],
      "text/plain": [
       "               BIOGENIC CO2  CARBON DIOXIDE       METHANE  NITROUS OXIDE  \\\n",
       "County_Year                                                                \n",
       "AIKEN_2010     16171.000000   444627.100000  18422.875000    1329.974000   \n",
       "AIKEN_2011     10549.000000   429155.266667  18827.562500    1191.851000   \n",
       "ALACHUA_2013   64093.800000   317543.266667    495.250000     918.883000   \n",
       "ALAMEDA_2010   49073.996479    38720.705363  63579.865362     100.483415   \n",
       "ALAMEDA_2011   50407.739015    29260.805667  59862.691017      98.726208   \n",
       "...                     ...             ...           ...            ...   \n",
       "YOLO_2013         69.900000    32644.566667   9132.125000    3400.676667   \n",
       "YORK_2010     397115.233333   886716.105333  14722.633333    7798.018154   \n",
       "YORK_2011     338540.600000   715022.474118  12648.367647    6235.789067   \n",
       "YORK_2012     475279.380000   583744.761875  13729.750000    5260.998429   \n",
       "YORK_2013     768271.766667   629840.215333  12460.911765    4426.864500   \n",
       "\n",
       "                  Value  \n",
       "County_Year              \n",
       "AIKEN_2010    12.340038  \n",
       "AIKEN_2011    12.658858  \n",
       "ALACHUA_2013   6.914032  \n",
       "ALAMEDA_2010   8.442426  \n",
       "ALAMEDA_2011  10.494480  \n",
       "...                 ...  \n",
       "YOLO_2013      7.495000  \n",
       "YORK_2010     10.287617  \n",
       "YORK_2011     10.299324  \n",
       "YORK_2012     12.250877  \n",
       "YORK_2013     11.244676  \n",
       "\n",
       "[1156 rows x 5 columns]"
      ]
     },
     "metadata": {},
     "output_type": "display_data"
    },
    {
     "data": {
      "text/plain": [
       "1156"
      ]
     },
     "metadata": {},
     "output_type": "display_data"
    }
   ],
   "source": [
    "gasses_with_air_quality_and_counties = emissions_per_county_year_per_gas.merge(\n",
    "    air_quality_county_yearly_averages, left_index=True, right_index=True, how=\"inner\")\n",
    "display(gasses_with_air_quality_and_counties) \n",
    "display(len(gasses_with_air_quality_and_counties)) "
   ]
  },
  {
   "cell_type": "code",
   "execution_count": 168,
   "metadata": {},
   "outputs": [
    {
     "name": "stdout",
     "output_type": "stream",
     "text": [
      "Intercept of the model:\n",
      "9.558255002093205\n",
      "\n",
      "\n",
      "Features of the model:\n",
      "['BIOGENIC CO2', 'CARBON DIOXIDE', 'METHANE', 'NITROUS OXIDE']\n",
      "\n",
      "\n",
      "Coefficients of the model:\n",
      "[-0.21248323  0.96663881 -0.34991547 -1.99183921]\n"
     ]
    }
   ],
   "source": [
    "gasses_with_air_quality_per_year_and_county = gasses_with_air_quality_and_counties.drop(columns=[\"Value\"])\n",
    "max_gas_emissions_by_county = gasses_with_air_quality_per_year_and_county.max()\n",
    "normalized_max_gas_emissions_by_county = gasses_with_air_quality_per_year_and_county / max_gas_emissions_by_county\n",
    "air_qualities_by_year_and_county = gasses_with_air_quality_and_counties[\"Value\"]\n",
    "\n",
    "x_train, x_test, y_train, y_test = train_test_split(normalized_max_gas_emissions_by_county, air_qualities_by_year_and_county)\n",
    "\n",
    "model_with_counties_and_gas_types = model_air_quality_from_multiple_gasses(x_train, y_train)"
   ]
  },
  {
   "cell_type": "code",
   "execution_count": 161,
   "metadata": {},
   "outputs": [
    {
     "name": "stdout",
     "output_type": "stream",
     "text": [
      "[9.59881705]\n"
     ]
    },
    {
     "name": "stderr",
     "output_type": "stream",
     "text": [
      "/home/sean/miniconda3/envs/msse-python/lib/python3.11/site-packages/sklearn/base.py:439: UserWarning: X does not have valid feature names, but LinearRegression was fitted with feature names\n",
      "  warnings.warn(\n"
     ]
    }
   ],
   "source": [
    "example_point_to_predict = np.array([16171.000000, 444627.100000, 18422.875000, 1329.974000]).reshape(-1, 1)\n",
    "\n",
    "max_gas_emissions_per_county_per_year = gasses_with_air_quality_and_counties.drop(columns=[\"Value\"]).max()\n",
    "normalized_values_to_predict = example_point_to_predict / np.array(max_gas_emissions_by_county).reshape(-1, 1)\n",
    "normalized_values_to_predict = normalized_values_to_predict.T\n",
    "\n",
    "prediction = model_with_counties_and_gas_types.predict(normalized_values_to_predict)\n",
    "print(prediction)"
   ]
  },
  {
   "cell_type": "code",
   "execution_count": 170,
   "metadata": {},
   "outputs": [
    {
     "ename": "TypeError",
     "evalue": "'LinearRegression' object is not callable",
     "output_type": "error",
     "traceback": [
      "\u001b[0;31m---------------------------------------------------------------------------\u001b[0m",
      "\u001b[0;31mTypeError\u001b[0m                                 Traceback (most recent call last)",
      "\u001b[1;32m/home/sean/msse/data200S/TeamPunchParty/gas_types_aq_model.ipynb Cell 24\u001b[0m line \u001b[0;36m1\n\u001b[0;32m----> <a href='vscode-notebook-cell://wsl%2Bubuntu/home/sean/msse/data200S/TeamPunchParty/gas_types_aq_model.ipynb#X54sdnNjb2RlLXJlbW90ZQ%3D%3D?line=0'>1</a>\u001b[0m y_train_pred_county_year \u001b[39m=\u001b[39m  model_with_counties_and_gas_types(x_train)\n\u001b[1;32m      <a href='vscode-notebook-cell://wsl%2Bubuntu/home/sean/msse/data200S/TeamPunchParty/gas_types_aq_model.ipynb#X54sdnNjb2RlLXJlbW90ZQ%3D%3D?line=1'>2</a>\u001b[0m y_test_pred_county_year \u001b[39m=\u001b[39m  model_with_counties_and_gas_types(x_test)\n\u001b[1;32m      <a href='vscode-notebook-cell://wsl%2Bubuntu/home/sean/msse/data200S/TeamPunchParty/gas_types_aq_model.ipynb#X54sdnNjb2RlLXJlbW90ZQ%3D%3D?line=3'>4</a>\u001b[0m rmse_train \u001b[39m=\u001b[39m np\u001b[39m.\u001b[39msqrt(mean_squared_error(y_train, y_train_pred_county_year))\n",
      "\u001b[0;31mTypeError\u001b[0m: 'LinearRegression' object is not callable"
     ]
    }
   ],
   "source": [
    "y_train_pred_county_year =  model_with_counties_and_gas_types.predict(x_train)\n",
    "y_test_pred_county_year =  model_with_counties_and_gas_types.predict(x_test)\n",
    "\n",
    "rmse_train = np.sqrt(mean_squared_error(y_train, y_train_pred_county_year))\n",
    "rmse_test = np.sqrt(mean_squared_error(y_test, y_test_pred_county_year))\n",
    "\n",
    "plt.figure(figsize=(8, 5))\n",
    "plt.bar(['Train RMSE', 'Test RMSE'], [rmse_train, rmse_test], color=['blue', 'red'])\n",
    "plt.ylabel('RMSE')\n",
    "plt.title('RMSE for Training and Testing Sets')\n",
    "plt.show()\n",
    "\n",
    "plt.figure()"
   ]
  },
  {
   "cell_type": "code",
   "execution_count": null,
   "metadata": {},
   "outputs": [],
   "source": []
  }
 ],
 "metadata": {
  "kernelspec": {
   "display_name": "msse-python",
   "language": "python",
   "name": "python3"
  },
  "language_info": {
   "codemirror_mode": {
    "name": "ipython",
    "version": 3
   },
   "file_extension": ".py",
   "mimetype": "text/x-python",
   "name": "python",
   "nbconvert_exporter": "python",
   "pygments_lexer": "ipython3",
   "version": "3.11.4"
  }
 },
 "nbformat": 4,
 "nbformat_minor": 2
}
