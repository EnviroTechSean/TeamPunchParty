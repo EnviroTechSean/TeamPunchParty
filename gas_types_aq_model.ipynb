{
 "cells": [
  {
   "cell_type": "code",
   "execution_count": 18,
   "metadata": {},
   "outputs": [],
   "source": [
    "import numpy as np\n",
    "import pandas as pd\n",
    "from sklearn.linear_model import LinearRegression\n",
    "\n",
    "import punch_party_utils"
   ]
  },
  {
   "cell_type": "code",
   "execution_count": 2,
   "metadata": {},
   "outputs": [],
   "source": [
    "average_air_quality = punch_party_utils.make_average_aq_df()\n",
    "average_air_quality = average_air_quality[average_air_quality[\"MeasureName\"] == \"Annual average ambient concentrations of PM2.5 in micrograms per cubic meter (based on seasonal averages and daily measurement)\"]"
   ]
  },
  {
   "cell_type": "code",
   "execution_count": 3,
   "metadata": {},
   "outputs": [
    {
     "data": {
      "text/plain": [
       "Index(['ReportYear', 'Value'], dtype='object')"
      ]
     },
     "metadata": {},
     "output_type": "display_data"
    }
   ],
   "source": [
    "# For the first model, just CO2 emmisions in a given year -> air quality in a given year\n",
    "average_air_quality = average_air_quality.drop(\n",
    "    columns=[\"MeasureId\", \"MeasureName\", \"MeasureType\", \"StratificationLevel\",\n",
    "             \"StateFips\", \"StateName\", \"CountyFips\", \"CountyName\", \"Unit\",\n",
    "             \"UnitName\", \"DataOrigin\", \"MonitorOnly\"])\n",
    "\n",
    "display(average_air_quality.columns)\n"
   ]
  },
  {
   "cell_type": "code",
   "execution_count": 4,
   "metadata": {},
   "outputs": [
    {
     "name": "stdout",
     "output_type": "stream",
     "text": [
      "8422\n"
     ]
    }
   ],
   "source": [
    "print(len(average_air_quality))\n",
    "\n",
    "aq_by_year = average_air_quality.groupby(\"ReportYear\")"
   ]
  },
  {
   "cell_type": "code",
   "execution_count": 5,
   "metadata": {},
   "outputs": [
    {
     "name": "stdout",
     "output_type": "stream",
     "text": [
      "                Value\n",
      "ReportYear           \n",
      "1999        13.748994\n",
      "2000        13.020075\n",
      "2001        12.403782\n",
      "2002        11.956124\n",
      "2003        11.808624\n",
      "2004        11.550947\n",
      "2005        12.607519\n",
      "2006        11.432796\n",
      "2007        11.772843\n",
      "2008        10.688418\n",
      "2009         9.528830\n",
      "2010         9.790810\n",
      "2011         9.672332\n",
      "2012         9.063382\n",
      "2013         8.821925\n"
     ]
    }
   ],
   "source": [
    "air_quality_yearly_averages = aq_by_year.agg(\"mean\")\n",
    "print(air_quality_yearly_averages)"
   ]
  },
  {
   "cell_type": "code",
   "execution_count": 6,
   "metadata": {},
   "outputs": [],
   "source": [
    "gas_types = punch_party_utils.make_gas_types_df()"
   ]
  },
  {
   "cell_type": "code",
   "execution_count": 7,
   "metadata": {},
   "outputs": [
    {
     "data": {
      "text/plain": [
       "Index(['Address Line 1', 'City', 'CO2 Emission', 'County', 'Facility ID',\n",
       "       'Gas Code', 'Gas Name', 'Latitude', 'Longitude', 'State Name', 'Year',\n",
       "       'Zip Code', 'Facility Name'],\n",
       "      dtype='object')"
      ]
     },
     "metadata": {},
     "output_type": "display_data"
    }
   ],
   "source": [
    "display(gas_types.columns)\n",
    "\n",
    "gas_types = gas_types.drop(\n",
    "    columns=[\"Address Line 1\", \"City\", \"County\", \n",
    "             \"Facility ID\", \"Gas Code\", \"Latitude\", \"Longitude\", \n",
    "             \"State Name\", \"Zip Code\", \"Facility Name\"])"
   ]
  },
  {
   "cell_type": "code",
   "execution_count": 8,
   "metadata": {},
   "outputs": [
    {
     "data": {
      "text/html": [
       "<div>\n",
       "<style scoped>\n",
       "    .dataframe tbody tr th:only-of-type {\n",
       "        vertical-align: middle;\n",
       "    }\n",
       "\n",
       "    .dataframe tbody tr th {\n",
       "        vertical-align: top;\n",
       "    }\n",
       "\n",
       "    .dataframe thead th {\n",
       "        text-align: right;\n",
       "    }\n",
       "</style>\n",
       "<table border=\"1\" class=\"dataframe\">\n",
       "  <thead>\n",
       "    <tr style=\"text-align: right;\">\n",
       "      <th></th>\n",
       "      <th>CO2 Emission</th>\n",
       "      <th>Gas Name</th>\n",
       "      <th>Year</th>\n",
       "    </tr>\n",
       "  </thead>\n",
       "  <tbody>\n",
       "    <tr>\n",
       "      <th>0</th>\n",
       "      <td>58024.000</td>\n",
       "      <td>BIOGENIC CO2</td>\n",
       "      <td>2017</td>\n",
       "    </tr>\n",
       "    <tr>\n",
       "      <th>1</th>\n",
       "      <td>134.500</td>\n",
       "      <td>METHANE</td>\n",
       "      <td>2018</td>\n",
       "    </tr>\n",
       "    <tr>\n",
       "      <th>2</th>\n",
       "      <td>6.854</td>\n",
       "      <td>NITROUS OXIDE</td>\n",
       "      <td>2012</td>\n",
       "    </tr>\n",
       "    <tr>\n",
       "      <th>3</th>\n",
       "      <td>53562.000</td>\n",
       "      <td>METHANE</td>\n",
       "      <td>2017</td>\n",
       "    </tr>\n",
       "    <tr>\n",
       "      <th>4</th>\n",
       "      <td>7635064.700</td>\n",
       "      <td>CARBON DIOXIDE</td>\n",
       "      <td>2018</td>\n",
       "    </tr>\n",
       "  </tbody>\n",
       "</table>\n",
       "</div>"
      ],
      "text/plain": [
       "   CO2 Emission        Gas Name  Year\n",
       "0     58024.000    BIOGENIC CO2  2017\n",
       "1       134.500         METHANE  2018\n",
       "2         6.854   NITROUS OXIDE  2012\n",
       "3     53562.000         METHANE  2017\n",
       "4   7635064.700  CARBON DIOXIDE  2018"
      ]
     },
     "metadata": {},
     "output_type": "display_data"
    }
   ],
   "source": [
    "display(gas_types.head())"
   ]
  },
  {
   "cell_type": "code",
   "execution_count": 10,
   "metadata": {},
   "outputs": [],
   "source": [
    "raw_emmisions_only = gas_types.drop(columns=[\"Gas Name\"])\n",
    "yearly_raw_emmisions = raw_emmisions_only.groupby(\"Year\").agg(\"sum\")"
   ]
  },
  {
   "cell_type": "code",
   "execution_count": 11,
   "metadata": {},
   "outputs": [
    {
     "name": "stdout",
     "output_type": "stream",
     "text": [
      "      CO2 Emission\n",
      "Year              \n",
      "2010  3.229325e+09\n",
      "2011  3.333042e+09\n",
      "2012  3.194602e+09\n",
      "2013  3.210963e+09\n",
      "2014  3.222917e+09\n",
      "2015  3.078839e+09\n",
      "2016  3.019157e+09\n",
      "2017  2.947673e+09\n",
      "2018  3.037238e+09\n",
      "2019  2.898178e+09\n"
     ]
    }
   ],
   "source": [
    "print(yearly_raw_emmisions)"
   ]
  },
  {
   "cell_type": "code",
   "execution_count": 12,
   "metadata": {},
   "outputs": [
    {
     "name": "stdout",
     "output_type": "stream",
     "text": [
      "      CO2 Emission     Value\n",
      "2010  3.229325e+09  9.790810\n",
      "2011  3.333042e+09  9.672332\n",
      "2012  3.194602e+09  9.063382\n",
      "2013  3.210963e+09  8.821925\n"
     ]
    }
   ],
   "source": [
    "co2_emmisions_with_aq = yearly_raw_emmisions.merge(\n",
    "    air_quality_yearly_averages, left_index=True, right_index=True, how=\"inner\")\n",
    "print(co2_emmisions_with_aq)"
   ]
  },
  {
   "cell_type": "code",
   "execution_count": 13,
   "metadata": {},
   "outputs": [
    {
     "data": {
      "text/html": [
       "<div>\n",
       "<style scoped>\n",
       "    .dataframe tbody tr th:only-of-type {\n",
       "        vertical-align: middle;\n",
       "    }\n",
       "\n",
       "    .dataframe tbody tr th {\n",
       "        vertical-align: top;\n",
       "    }\n",
       "\n",
       "    .dataframe thead th {\n",
       "        text-align: right;\n",
       "    }\n",
       "</style>\n",
       "<table border=\"1\" class=\"dataframe\">\n",
       "  <thead>\n",
       "    <tr style=\"text-align: right;\">\n",
       "      <th></th>\n",
       "      <th>CO2 Emission</th>\n",
       "      <th>Value</th>\n",
       "    </tr>\n",
       "  </thead>\n",
       "  <tbody>\n",
       "    <tr>\n",
       "      <th>2010</th>\n",
       "      <td>0.968882</td>\n",
       "      <td>9.790810</td>\n",
       "    </tr>\n",
       "    <tr>\n",
       "      <th>2011</th>\n",
       "      <td>1.000000</td>\n",
       "      <td>9.672332</td>\n",
       "    </tr>\n",
       "    <tr>\n",
       "      <th>2012</th>\n",
       "      <td>0.958464</td>\n",
       "      <td>9.063382</td>\n",
       "    </tr>\n",
       "    <tr>\n",
       "      <th>2013</th>\n",
       "      <td>0.963373</td>\n",
       "      <td>8.821925</td>\n",
       "    </tr>\n",
       "  </tbody>\n",
       "</table>\n",
       "</div>"
      ],
      "text/plain": [
       "      CO2 Emission     Value\n",
       "2010      0.968882  9.790810\n",
       "2011      1.000000  9.672332\n",
       "2012      0.958464  9.063382\n",
       "2013      0.963373  8.821925"
      ]
     },
     "metadata": {},
     "output_type": "display_data"
    }
   ],
   "source": [
    "# Normalize\n",
    "max_co2_emission = np.max(co2_emmisions_with_aq[\"CO2 Emission\"])\n",
    "max_co2_emission\n",
    "co2_emmisions_with_aq[\"CO2 Emission\"] = co2_emmisions_with_aq[\"CO2 Emission\"] / max_co2_emission\n",
    "\n",
    "display(co2_emmisions_with_aq)"
   ]
  },
  {
   "cell_type": "code",
   "execution_count": 14,
   "metadata": {},
   "outputs": [
    {
     "data": {
      "text/html": [
       "<div>\n",
       "<style scoped>\n",
       "    .dataframe tbody tr th:only-of-type {\n",
       "        vertical-align: middle;\n",
       "    }\n",
       "\n",
       "    .dataframe tbody tr th {\n",
       "        vertical-align: top;\n",
       "    }\n",
       "\n",
       "    .dataframe thead th {\n",
       "        text-align: right;\n",
       "    }\n",
       "</style>\n",
       "<table border=\"1\" class=\"dataframe\">\n",
       "  <thead>\n",
       "    <tr style=\"text-align: right;\">\n",
       "      <th></th>\n",
       "      <th>CO2 Emission</th>\n",
       "    </tr>\n",
       "  </thead>\n",
       "  <tbody>\n",
       "    <tr>\n",
       "      <th>2010</th>\n",
       "      <td>0.968882</td>\n",
       "    </tr>\n",
       "    <tr>\n",
       "      <th>2011</th>\n",
       "      <td>1.000000</td>\n",
       "    </tr>\n",
       "    <tr>\n",
       "      <th>2012</th>\n",
       "      <td>0.958464</td>\n",
       "    </tr>\n",
       "    <tr>\n",
       "      <th>2013</th>\n",
       "      <td>0.963373</td>\n",
       "    </tr>\n",
       "  </tbody>\n",
       "</table>\n",
       "</div>"
      ],
      "text/plain": [
       "      CO2 Emission\n",
       "2010      0.968882\n",
       "2011      1.000000\n",
       "2012      0.958464\n",
       "2013      0.963373"
      ]
     },
     "metadata": {},
     "output_type": "display_data"
    },
    {
     "data": {
      "text/plain": [
       "2010    9.790810\n",
       "2011    9.672332\n",
       "2012    9.063382\n",
       "2013    8.821925\n",
       "Name: Value, dtype: float64"
      ]
     },
     "metadata": {},
     "output_type": "display_data"
    },
    {
     "data": {
      "text/html": [
       "<style>#sk-container-id-1 {color: black;background-color: white;}#sk-container-id-1 pre{padding: 0;}#sk-container-id-1 div.sk-toggleable {background-color: white;}#sk-container-id-1 label.sk-toggleable__label {cursor: pointer;display: block;width: 100%;margin-bottom: 0;padding: 0.3em;box-sizing: border-box;text-align: center;}#sk-container-id-1 label.sk-toggleable__label-arrow:before {content: \"▸\";float: left;margin-right: 0.25em;color: #696969;}#sk-container-id-1 label.sk-toggleable__label-arrow:hover:before {color: black;}#sk-container-id-1 div.sk-estimator:hover label.sk-toggleable__label-arrow:before {color: black;}#sk-container-id-1 div.sk-toggleable__content {max-height: 0;max-width: 0;overflow: hidden;text-align: left;background-color: #f0f8ff;}#sk-container-id-1 div.sk-toggleable__content pre {margin: 0.2em;color: black;border-radius: 0.25em;background-color: #f0f8ff;}#sk-container-id-1 input.sk-toggleable__control:checked~div.sk-toggleable__content {max-height: 200px;max-width: 100%;overflow: auto;}#sk-container-id-1 input.sk-toggleable__control:checked~label.sk-toggleable__label-arrow:before {content: \"▾\";}#sk-container-id-1 div.sk-estimator input.sk-toggleable__control:checked~label.sk-toggleable__label {background-color: #d4ebff;}#sk-container-id-1 div.sk-label input.sk-toggleable__control:checked~label.sk-toggleable__label {background-color: #d4ebff;}#sk-container-id-1 input.sk-hidden--visually {border: 0;clip: rect(1px 1px 1px 1px);clip: rect(1px, 1px, 1px, 1px);height: 1px;margin: -1px;overflow: hidden;padding: 0;position: absolute;width: 1px;}#sk-container-id-1 div.sk-estimator {font-family: monospace;background-color: #f0f8ff;border: 1px dotted black;border-radius: 0.25em;box-sizing: border-box;margin-bottom: 0.5em;}#sk-container-id-1 div.sk-estimator:hover {background-color: #d4ebff;}#sk-container-id-1 div.sk-parallel-item::after {content: \"\";width: 100%;border-bottom: 1px solid gray;flex-grow: 1;}#sk-container-id-1 div.sk-label:hover label.sk-toggleable__label {background-color: #d4ebff;}#sk-container-id-1 div.sk-serial::before {content: \"\";position: absolute;border-left: 1px solid gray;box-sizing: border-box;top: 0;bottom: 0;left: 50%;z-index: 0;}#sk-container-id-1 div.sk-serial {display: flex;flex-direction: column;align-items: center;background-color: white;padding-right: 0.2em;padding-left: 0.2em;position: relative;}#sk-container-id-1 div.sk-item {position: relative;z-index: 1;}#sk-container-id-1 div.sk-parallel {display: flex;align-items: stretch;justify-content: center;background-color: white;position: relative;}#sk-container-id-1 div.sk-item::before, #sk-container-id-1 div.sk-parallel-item::before {content: \"\";position: absolute;border-left: 1px solid gray;box-sizing: border-box;top: 0;bottom: 0;left: 50%;z-index: -1;}#sk-container-id-1 div.sk-parallel-item {display: flex;flex-direction: column;z-index: 1;position: relative;background-color: white;}#sk-container-id-1 div.sk-parallel-item:first-child::after {align-self: flex-end;width: 50%;}#sk-container-id-1 div.sk-parallel-item:last-child::after {align-self: flex-start;width: 50%;}#sk-container-id-1 div.sk-parallel-item:only-child::after {width: 0;}#sk-container-id-1 div.sk-dashed-wrapped {border: 1px dashed gray;margin: 0 0.4em 0.5em 0.4em;box-sizing: border-box;padding-bottom: 0.4em;background-color: white;}#sk-container-id-1 div.sk-label label {font-family: monospace;font-weight: bold;display: inline-block;line-height: 1.2em;}#sk-container-id-1 div.sk-label-container {text-align: center;}#sk-container-id-1 div.sk-container {/* jupyter's `normalize.less` sets `[hidden] { display: none; }` but bootstrap.min.css set `[hidden] { display: none !important; }` so we also need the `!important` here to be able to override the default hidden behavior on the sphinx rendered scikit-learn.org. See: https://github.com/scikit-learn/scikit-learn/issues/21755 */display: inline-block !important;position: relative;}#sk-container-id-1 div.sk-text-repr-fallback {display: none;}</style><div id=\"sk-container-id-1\" class=\"sk-top-container\"><div class=\"sk-text-repr-fallback\"><pre>LinearRegression()</pre><b>In a Jupyter environment, please rerun this cell to show the HTML representation or trust the notebook. <br />On GitHub, the HTML representation is unable to render, please try loading this page with nbviewer.org.</b></div><div class=\"sk-container\" hidden><div class=\"sk-item\"><div class=\"sk-estimator sk-toggleable\"><input class=\"sk-toggleable__control sk-hidden--visually\" id=\"sk-estimator-id-1\" type=\"checkbox\" checked><label for=\"sk-estimator-id-1\" class=\"sk-toggleable__label sk-toggleable__label-arrow\">LinearRegression</label><div class=\"sk-toggleable__content\"><pre>LinearRegression()</pre></div></div></div></div></div>"
      ],
      "text/plain": [
       "LinearRegression()"
      ]
     },
     "execution_count": 14,
     "metadata": {},
     "output_type": "execute_result"
    }
   ],
   "source": [
    "co2_aq_model = LinearRegression(fit_intercept=True)\n",
    "\n",
    "independent_var = co2_emmisions_with_aq[[\"CO2 Emission\"]]\n",
    "dependent_var = co2_emmisions_with_aq[\"Value\"]\n",
    "\n",
    "display(independent_var)\n",
    "display(dependent_var)\n",
    "\n",
    "co2_aq_model.fit(independent_var, dependent_var)"
   ]
  },
  {
   "cell_type": "code",
   "execution_count": 15,
   "metadata": {},
   "outputs": [
    {
     "data": {
      "text/plain": [
       "0.9600838993850696"
      ]
     },
     "metadata": {},
     "output_type": "display_data"
    },
    {
     "data": {
      "text/plain": [
       "3333042041.4815717"
      ]
     },
     "metadata": {},
     "output_type": "display_data"
    },
    {
     "name": "stdout",
     "output_type": "stream",
     "text": [
      "[9.14362915]\n"
     ]
    },
    {
     "name": "stderr",
     "output_type": "stream",
     "text": [
      "/home/sean/miniconda3/envs/msse-python/lib/python3.11/site-packages/sklearn/base.py:439: UserWarning: X does not have valid feature names, but LinearRegression was fitted with feature names\n",
      "  warnings.warn(\n"
     ]
    }
   ],
   "source": [
    "# Divide value to predict by max emission from training for normalization consistency\n",
    "value_to_predict = (3.2 * 10**9) / max_co2_emission\n",
    "\n",
    "print(co2_aq_model.predict(np.array([value_to_predict]).reshape(-1, 1)))"
   ]
  },
  {
   "cell_type": "code",
   "execution_count": 35,
   "metadata": {},
   "outputs": [
    {
     "data": {
      "text/html": [
       "<div>\n",
       "<style scoped>\n",
       "    .dataframe tbody tr th:only-of-type {\n",
       "        vertical-align: middle;\n",
       "    }\n",
       "\n",
       "    .dataframe tbody tr th {\n",
       "        vertical-align: top;\n",
       "    }\n",
       "\n",
       "    .dataframe thead th {\n",
       "        text-align: right;\n",
       "    }\n",
       "</style>\n",
       "<table border=\"1\" class=\"dataframe\">\n",
       "  <thead>\n",
       "    <tr style=\"text-align: right;\">\n",
       "      <th>Gas Name</th>\n",
       "      <th>BIOGENIC CO2</th>\n",
       "      <th>CARBON DIOXIDE</th>\n",
       "      <th>HFCS</th>\n",
       "      <th>HFES</th>\n",
       "      <th>METHANE</th>\n",
       "      <th>NITROGEN TRIFLOURIDE</th>\n",
       "      <th>NITROUS OXIDE</th>\n",
       "      <th>OTHER</th>\n",
       "      <th>OTHER FULLY FLUORINATED GHGS</th>\n",
       "      <th>PFCS</th>\n",
       "      <th>SULFUR HEXAFLUORIDE</th>\n",
       "      <th>VERY SHORT-LIVED COMPOUNDS</th>\n",
       "    </tr>\n",
       "    <tr>\n",
       "      <th>Year</th>\n",
       "      <th></th>\n",
       "      <th></th>\n",
       "      <th></th>\n",
       "      <th></th>\n",
       "      <th></th>\n",
       "      <th></th>\n",
       "      <th></th>\n",
       "      <th></th>\n",
       "      <th></th>\n",
       "      <th></th>\n",
       "      <th></th>\n",
       "      <th></th>\n",
       "    </tr>\n",
       "  </thead>\n",
       "  <tbody>\n",
       "    <tr>\n",
       "      <th>2011</th>\n",
       "      <td>219854.886983</td>\n",
       "      <td>462302.634066</td>\n",
       "      <td>196118.872666</td>\n",
       "      <td>888.608834</td>\n",
       "      <td>31507.831677</td>\n",
       "      <td>22648.793747</td>\n",
       "      <td>6002.174766</td>\n",
       "      <td>6747.611722</td>\n",
       "      <td>28001.296085</td>\n",
       "      <td>113693.707661</td>\n",
       "      <td>34794.461450</td>\n",
       "      <td>7.803089</td>\n",
       "    </tr>\n",
       "    <tr>\n",
       "      <th>2012</th>\n",
       "      <td>221692.959997</td>\n",
       "      <td>428138.510385</td>\n",
       "      <td>153791.590090</td>\n",
       "      <td>680.194925</td>\n",
       "      <td>29956.920238</td>\n",
       "      <td>20703.412830</td>\n",
       "      <td>4755.363164</td>\n",
       "      <td>6425.133333</td>\n",
       "      <td>28315.847044</td>\n",
       "      <td>104668.101817</td>\n",
       "      <td>28516.478182</td>\n",
       "      <td>5.895594</td>\n",
       "    </tr>\n",
       "    <tr>\n",
       "      <th>2013</th>\n",
       "      <td>215409.963821</td>\n",
       "      <td>427731.424518</td>\n",
       "      <td>129820.451666</td>\n",
       "      <td>623.485861</td>\n",
       "      <td>29092.144228</td>\n",
       "      <td>16215.268148</td>\n",
       "      <td>4291.312665</td>\n",
       "      <td>5294.825375</td>\n",
       "      <td>32481.755893</td>\n",
       "      <td>103245.245113</td>\n",
       "      <td>27478.328136</td>\n",
       "      <td>8.221518</td>\n",
       "    </tr>\n",
       "    <tr>\n",
       "      <th>2014</th>\n",
       "      <td>211993.601611</td>\n",
       "      <td>420014.630570</td>\n",
       "      <td>121274.558525</td>\n",
       "      <td>1409.273671</td>\n",
       "      <td>28052.491027</td>\n",
       "      <td>15063.658824</td>\n",
       "      <td>4523.518900</td>\n",
       "      <td>4466.333333</td>\n",
       "      <td>27371.955091</td>\n",
       "      <td>93473.825614</td>\n",
       "      <td>27592.388072</td>\n",
       "      <td>13.654441</td>\n",
       "    </tr>\n",
       "    <tr>\n",
       "      <th>2015</th>\n",
       "      <td>214321.305711</td>\n",
       "      <td>405575.849913</td>\n",
       "      <td>100378.183108</td>\n",
       "      <td>4111.709119</td>\n",
       "      <td>28259.379143</td>\n",
       "      <td>16324.279200</td>\n",
       "      <td>4282.749662</td>\n",
       "      <td>4692.033333</td>\n",
       "      <td>25813.783808</td>\n",
       "      <td>87343.614173</td>\n",
       "      <td>24874.326846</td>\n",
       "      <td>10.037224</td>\n",
       "    </tr>\n",
       "    <tr>\n",
       "      <th>2016</th>\n",
       "      <td>222358.176970</td>\n",
       "      <td>400135.672860</td>\n",
       "      <td>71522.700426</td>\n",
       "      <td>4796.704073</td>\n",
       "      <td>30815.509263</td>\n",
       "      <td>15849.905306</td>\n",
       "      <td>4473.979602</td>\n",
       "      <td>5659.666667</td>\n",
       "      <td>20543.399321</td>\n",
       "      <td>80593.112847</td>\n",
       "      <td>32661.720684</td>\n",
       "      <td>9.980153</td>\n",
       "    </tr>\n",
       "    <tr>\n",
       "      <th>2017</th>\n",
       "      <td>233888.923987</td>\n",
       "      <td>395373.907515</td>\n",
       "      <td>108830.924316</td>\n",
       "      <td>2251.545667</td>\n",
       "      <td>30037.760949</td>\n",
       "      <td>21363.596522</td>\n",
       "      <td>4437.589175</td>\n",
       "      <td>7407.837500</td>\n",
       "      <td>19329.803654</td>\n",
       "      <td>79049.098555</td>\n",
       "      <td>30441.777313</td>\n",
       "      <td>175.140414</td>\n",
       "    </tr>\n",
       "    <tr>\n",
       "      <th>2018</th>\n",
       "      <td>236278.276721</td>\n",
       "      <td>402524.464243</td>\n",
       "      <td>85099.096264</td>\n",
       "      <td>2114.205038</td>\n",
       "      <td>29896.962297</td>\n",
       "      <td>15969.512000</td>\n",
       "      <td>4834.939194</td>\n",
       "      <td>12032.225000</td>\n",
       "      <td>20636.510176</td>\n",
       "      <td>92902.147146</td>\n",
       "      <td>29139.825000</td>\n",
       "      <td>17.776397</td>\n",
       "    </tr>\n",
       "    <tr>\n",
       "      <th>2019</th>\n",
       "      <td>245855.440780</td>\n",
       "      <td>383535.103409</td>\n",
       "      <td>86878.502970</td>\n",
       "      <td>2091.567750</td>\n",
       "      <td>30272.276821</td>\n",
       "      <td>15695.917333</td>\n",
       "      <td>3913.113277</td>\n",
       "      <td>9776.488889</td>\n",
       "      <td>21070.790851</td>\n",
       "      <td>96507.384590</td>\n",
       "      <td>30307.531385</td>\n",
       "      <td>6.964801</td>\n",
       "    </tr>\n",
       "  </tbody>\n",
       "</table>\n",
       "</div>"
      ],
      "text/plain": [
       "Gas Name   BIOGENIC CO2  CARBON DIOXIDE           HFCS         HFES  \\\n",
       "Year                                                                  \n",
       "2011      219854.886983   462302.634066  196118.872666   888.608834   \n",
       "2012      221692.959997   428138.510385  153791.590090   680.194925   \n",
       "2013      215409.963821   427731.424518  129820.451666   623.485861   \n",
       "2014      211993.601611   420014.630570  121274.558525  1409.273671   \n",
       "2015      214321.305711   405575.849913  100378.183108  4111.709119   \n",
       "2016      222358.176970   400135.672860   71522.700426  4796.704073   \n",
       "2017      233888.923987   395373.907515  108830.924316  2251.545667   \n",
       "2018      236278.276721   402524.464243   85099.096264  2114.205038   \n",
       "2019      245855.440780   383535.103409   86878.502970  2091.567750   \n",
       "\n",
       "Gas Name       METHANE  NITROGEN TRIFLOURIDE  NITROUS OXIDE         OTHER  \\\n",
       "Year                                                                        \n",
       "2011      31507.831677          22648.793747    6002.174766   6747.611722   \n",
       "2012      29956.920238          20703.412830    4755.363164   6425.133333   \n",
       "2013      29092.144228          16215.268148    4291.312665   5294.825375   \n",
       "2014      28052.491027          15063.658824    4523.518900   4466.333333   \n",
       "2015      28259.379143          16324.279200    4282.749662   4692.033333   \n",
       "2016      30815.509263          15849.905306    4473.979602   5659.666667   \n",
       "2017      30037.760949          21363.596522    4437.589175   7407.837500   \n",
       "2018      29896.962297          15969.512000    4834.939194  12032.225000   \n",
       "2019      30272.276821          15695.917333    3913.113277   9776.488889   \n",
       "\n",
       "Gas Name  OTHER FULLY FLUORINATED GHGS           PFCS  SULFUR HEXAFLUORIDE  \\\n",
       "Year                                                                         \n",
       "2011                      28001.296085  113693.707661         34794.461450   \n",
       "2012                      28315.847044  104668.101817         28516.478182   \n",
       "2013                      32481.755893  103245.245113         27478.328136   \n",
       "2014                      27371.955091   93473.825614         27592.388072   \n",
       "2015                      25813.783808   87343.614173         24874.326846   \n",
       "2016                      20543.399321   80593.112847         32661.720684   \n",
       "2017                      19329.803654   79049.098555         30441.777313   \n",
       "2018                      20636.510176   92902.147146         29139.825000   \n",
       "2019                      21070.790851   96507.384590         30307.531385   \n",
       "\n",
       "Gas Name  VERY SHORT-LIVED COMPOUNDS  \n",
       "Year                                  \n",
       "2011                        7.803089  \n",
       "2012                        5.895594  \n",
       "2013                        8.221518  \n",
       "2014                       13.654441  \n",
       "2015                       10.037224  \n",
       "2016                        9.980153  \n",
       "2017                      175.140414  \n",
       "2018                       17.776397  \n",
       "2019                        6.964801  "
      ]
     },
     "metadata": {},
     "output_type": "display_data"
    }
   ],
   "source": [
    "emissions_per_year_per_gas = gas_types.groupby(['Year', 'Gas Name']).mean()\n",
    "\n",
    "emissions_per_year_per_gas = emissions_per_year_per_gas.reset_index()\n",
    "\n",
    "emissions_per_year_per_gas = emissions_per_year_per_gas.pivot(index='Year', columns='Gas Name', values='CO2 Emission').dropna()\n",
    "\n",
    "display(emissions_per_year_per_gas)"
   ]
  },
  {
   "cell_type": "code",
   "execution_count": 37,
   "metadata": {},
   "outputs": [
    {
     "data": {
      "text/html": [
       "<div>\n",
       "<style scoped>\n",
       "    .dataframe tbody tr th:only-of-type {\n",
       "        vertical-align: middle;\n",
       "    }\n",
       "\n",
       "    .dataframe tbody tr th {\n",
       "        vertical-align: top;\n",
       "    }\n",
       "\n",
       "    .dataframe thead th {\n",
       "        text-align: right;\n",
       "    }\n",
       "</style>\n",
       "<table border=\"1\" class=\"dataframe\">\n",
       "  <thead>\n",
       "    <tr style=\"text-align: right;\">\n",
       "      <th></th>\n",
       "      <th>BIOGENIC CO2</th>\n",
       "      <th>CARBON DIOXIDE</th>\n",
       "      <th>HFCS</th>\n",
       "      <th>HFES</th>\n",
       "      <th>METHANE</th>\n",
       "      <th>NITROGEN TRIFLOURIDE</th>\n",
       "      <th>NITROUS OXIDE</th>\n",
       "      <th>OTHER</th>\n",
       "      <th>OTHER FULLY FLUORINATED GHGS</th>\n",
       "      <th>PFCS</th>\n",
       "      <th>SULFUR HEXAFLUORIDE</th>\n",
       "      <th>VERY SHORT-LIVED COMPOUNDS</th>\n",
       "      <th>Value</th>\n",
       "    </tr>\n",
       "  </thead>\n",
       "  <tbody>\n",
       "    <tr>\n",
       "      <th>2011</th>\n",
       "      <td>219854.886983</td>\n",
       "      <td>462302.634066</td>\n",
       "      <td>196118.872666</td>\n",
       "      <td>888.608834</td>\n",
       "      <td>31507.831677</td>\n",
       "      <td>22648.793747</td>\n",
       "      <td>6002.174766</td>\n",
       "      <td>6747.611722</td>\n",
       "      <td>28001.296085</td>\n",
       "      <td>113693.707661</td>\n",
       "      <td>34794.461450</td>\n",
       "      <td>7.803089</td>\n",
       "      <td>9.672332</td>\n",
       "    </tr>\n",
       "    <tr>\n",
       "      <th>2012</th>\n",
       "      <td>221692.959997</td>\n",
       "      <td>428138.510385</td>\n",
       "      <td>153791.590090</td>\n",
       "      <td>680.194925</td>\n",
       "      <td>29956.920238</td>\n",
       "      <td>20703.412830</td>\n",
       "      <td>4755.363164</td>\n",
       "      <td>6425.133333</td>\n",
       "      <td>28315.847044</td>\n",
       "      <td>104668.101817</td>\n",
       "      <td>28516.478182</td>\n",
       "      <td>5.895594</td>\n",
       "      <td>9.063382</td>\n",
       "    </tr>\n",
       "    <tr>\n",
       "      <th>2013</th>\n",
       "      <td>215409.963821</td>\n",
       "      <td>427731.424518</td>\n",
       "      <td>129820.451666</td>\n",
       "      <td>623.485861</td>\n",
       "      <td>29092.144228</td>\n",
       "      <td>16215.268148</td>\n",
       "      <td>4291.312665</td>\n",
       "      <td>5294.825375</td>\n",
       "      <td>32481.755893</td>\n",
       "      <td>103245.245113</td>\n",
       "      <td>27478.328136</td>\n",
       "      <td>8.221518</td>\n",
       "      <td>8.821925</td>\n",
       "    </tr>\n",
       "  </tbody>\n",
       "</table>\n",
       "</div>"
      ],
      "text/plain": [
       "       BIOGENIC CO2  CARBON DIOXIDE           HFCS        HFES       METHANE  \\\n",
       "2011  219854.886983   462302.634066  196118.872666  888.608834  31507.831677   \n",
       "2012  221692.959997   428138.510385  153791.590090  680.194925  29956.920238   \n",
       "2013  215409.963821   427731.424518  129820.451666  623.485861  29092.144228   \n",
       "\n",
       "      NITROGEN TRIFLOURIDE  NITROUS OXIDE        OTHER  \\\n",
       "2011          22648.793747    6002.174766  6747.611722   \n",
       "2012          20703.412830    4755.363164  6425.133333   \n",
       "2013          16215.268148    4291.312665  5294.825375   \n",
       "\n",
       "      OTHER FULLY FLUORINATED GHGS           PFCS  SULFUR HEXAFLUORIDE  \\\n",
       "2011                  28001.296085  113693.707661         34794.461450   \n",
       "2012                  28315.847044  104668.101817         28516.478182   \n",
       "2013                  32481.755893  103245.245113         27478.328136   \n",
       "\n",
       "      VERY SHORT-LIVED COMPOUNDS     Value  \n",
       "2011                    7.803089  9.672332  \n",
       "2012                    5.895594  9.063382  \n",
       "2013                    8.221518  8.821925  "
      ]
     },
     "metadata": {},
     "output_type": "display_data"
    }
   ],
   "source": [
    "all_gasses_with_air_quality = emissions_per_year_per_gas.merge(\n",
    "    air_quality_yearly_averages, left_index=True, right_index=True, how=\"inner\")\n",
    "display(all_gasses_with_air_quality) "
   ]
  },
  {
   "cell_type": "code",
   "execution_count": 67,
   "metadata": {},
   "outputs": [
    {
     "name": "stdout",
     "output_type": "stream",
     "text": [
      "<class 'pandas.core.series.Series'>\n"
     ]
    },
    {
     "data": {
      "text/html": [
       "<div>\n",
       "<style scoped>\n",
       "    .dataframe tbody tr th:only-of-type {\n",
       "        vertical-align: middle;\n",
       "    }\n",
       "\n",
       "    .dataframe tbody tr th {\n",
       "        vertical-align: top;\n",
       "    }\n",
       "\n",
       "    .dataframe thead th {\n",
       "        text-align: right;\n",
       "    }\n",
       "</style>\n",
       "<table border=\"1\" class=\"dataframe\">\n",
       "  <thead>\n",
       "    <tr style=\"text-align: right;\">\n",
       "      <th></th>\n",
       "      <th>BIOGENIC CO2</th>\n",
       "      <th>CARBON DIOXIDE</th>\n",
       "      <th>HFCS</th>\n",
       "      <th>HFES</th>\n",
       "      <th>METHANE</th>\n",
       "      <th>NITROGEN TRIFLOURIDE</th>\n",
       "      <th>NITROUS OXIDE</th>\n",
       "      <th>OTHER</th>\n",
       "      <th>OTHER FULLY FLUORINATED GHGS</th>\n",
       "      <th>PFCS</th>\n",
       "      <th>SULFUR HEXAFLUORIDE</th>\n",
       "      <th>VERY SHORT-LIVED COMPOUNDS</th>\n",
       "    </tr>\n",
       "  </thead>\n",
       "  <tbody>\n",
       "    <tr>\n",
       "      <th>2011</th>\n",
       "      <td>0.991709</td>\n",
       "      <td>1.00000</td>\n",
       "      <td>1.000000</td>\n",
       "      <td>1.000000</td>\n",
       "      <td>1.000000</td>\n",
       "      <td>1.000000</td>\n",
       "      <td>1.000000</td>\n",
       "      <td>1.000000</td>\n",
       "      <td>0.862062</td>\n",
       "      <td>1.000000</td>\n",
       "      <td>1.000000</td>\n",
       "      <td>0.949106</td>\n",
       "    </tr>\n",
       "    <tr>\n",
       "      <th>2012</th>\n",
       "      <td>1.000000</td>\n",
       "      <td>0.92610</td>\n",
       "      <td>0.784175</td>\n",
       "      <td>0.765460</td>\n",
       "      <td>0.950777</td>\n",
       "      <td>0.914107</td>\n",
       "      <td>0.792273</td>\n",
       "      <td>0.952209</td>\n",
       "      <td>0.871746</td>\n",
       "      <td>0.920615</td>\n",
       "      <td>0.819569</td>\n",
       "      <td>0.717093</td>\n",
       "    </tr>\n",
       "    <tr>\n",
       "      <th>2013</th>\n",
       "      <td>0.971659</td>\n",
       "      <td>0.92522</td>\n",
       "      <td>0.661948</td>\n",
       "      <td>0.701643</td>\n",
       "      <td>0.923331</td>\n",
       "      <td>0.715944</td>\n",
       "      <td>0.714960</td>\n",
       "      <td>0.784696</td>\n",
       "      <td>1.000000</td>\n",
       "      <td>0.908100</td>\n",
       "      <td>0.789733</td>\n",
       "      <td>1.000000</td>\n",
       "    </tr>\n",
       "  </tbody>\n",
       "</table>\n",
       "</div>"
      ],
      "text/plain": [
       "      BIOGENIC CO2  CARBON DIOXIDE      HFCS      HFES   METHANE  \\\n",
       "2011      0.991709         1.00000  1.000000  1.000000  1.000000   \n",
       "2012      1.000000         0.92610  0.784175  0.765460  0.950777   \n",
       "2013      0.971659         0.92522  0.661948  0.701643  0.923331   \n",
       "\n",
       "      NITROGEN TRIFLOURIDE  NITROUS OXIDE     OTHER  \\\n",
       "2011              1.000000       1.000000  1.000000   \n",
       "2012              0.914107       0.792273  0.952209   \n",
       "2013              0.715944       0.714960  0.784696   \n",
       "\n",
       "      OTHER FULLY FLUORINATED GHGS      PFCS  SULFUR HEXAFLUORIDE  \\\n",
       "2011                      0.862062  1.000000             1.000000   \n",
       "2012                      0.871746  0.920615             0.819569   \n",
       "2013                      1.000000  0.908100             0.789733   \n",
       "\n",
       "      VERY SHORT-LIVED COMPOUNDS  \n",
       "2011                    0.949106  \n",
       "2012                    0.717093  \n",
       "2013                    1.000000  "
      ]
     },
     "metadata": {},
     "output_type": "display_data"
    }
   ],
   "source": [
    "independent_variables = all_gasses_with_air_quality.drop(columns=[\"Value\"])\n",
    "dependedent_variables = all_gasses_with_air_quality[\"Value\"]\n",
    "max_gas_emissions = independent_variables.max()\n",
    "\n",
    "normalized_max_gas_emmisions = independent_variables / max_gas_emissions\n",
    "display(normalized_max_gas_emmisions)"
   ]
  },
  {
   "cell_type": "code",
   "execution_count": 62,
   "metadata": {},
   "outputs": [
    {
     "name": "stdout",
     "output_type": "stream",
     "text": [
      "[-0.19696469  0.14554781  0.39970511  0.94732416  0.36555461  0.4516192\n",
      "  0.47818525  0.23628307 -0.12506562  0.31421171  0.22747971  0.23059716]\n"
     ]
    }
   ],
   "source": [
    "model_with_gas_types = LinearRegression(fit_intercept=True)\n",
    "\n",
    "model_with_gas_types.fit(normalized_max_gas_emmisions, dependedent_variables)\n",
    "\n",
    "print(model_with_gas_types.coef_)"
   ]
  },
  {
   "cell_type": "code",
   "execution_count": 72,
   "metadata": {},
   "outputs": [
    {
     "name": "stdout",
     "output_type": "stream",
     "text": [
      "[8.82192483]\n"
     ]
    },
    {
     "name": "stderr",
     "output_type": "stream",
     "text": [
      "/home/sean/miniconda3/envs/msse-python/lib/python3.11/site-packages/sklearn/base.py:439: UserWarning: X does not have valid feature names, but LinearRegression was fitted with feature names\n",
      "  warnings.warn(\n"
     ]
    }
   ],
   "source": [
    "example_value_to_predict = np.array([215409.963821, 427731.424518, 129820.451666, 623.485861, 29092.144228, 16215.268148, 4291.312665, 5294.825375, 32481.755893, 103245.245113, 27478.328136, 8.221518]).reshape(-1, 1)\n",
    "\n",
    "normalized_values_to_predict = example_value_to_predict / np.array(max_gas_emissions).reshape(-1, 1)\n",
    "normalized_values_to_predict = normalized_values_to_predict.T\n",
    "\n",
    "prediction = model_with_gas_types.predict(normalized_values_to_predict)\n",
    "print(prediction)\n",
    "print(model_with_gas_types.coef_)"
   ]
  },
  {
   "cell_type": "code",
   "execution_count": null,
   "metadata": {},
   "outputs": [],
   "source": []
  }
 ],
 "metadata": {
  "kernelspec": {
   "display_name": "msse-python",
   "language": "python",
   "name": "python3"
  },
  "language_info": {
   "codemirror_mode": {
    "name": "ipython",
    "version": 3
   },
   "file_extension": ".py",
   "mimetype": "text/x-python",
   "name": "python",
   "nbconvert_exporter": "python",
   "pygments_lexer": "ipython3",
   "version": "3.11.4"
  }
 },
 "nbformat": 4,
 "nbformat_minor": 2
}
